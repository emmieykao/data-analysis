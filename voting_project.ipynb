{
 "cells": [
  {
   "cell_type": "markdown",
   "id": "661c9daf-ed79-4abe-bcff-fd3bbe46b28b",
   "metadata": {
    "jp-MarkdownHeadingCollapsed": true,
    "tags": []
   },
   "source": [
    "## What is the relationship between `Social Media Use` and `Covid Misinformation`?"
   ]
  },
  {
   "cell_type": "markdown",
   "id": "cbcc5ab5-440a-40d9-a655-8ed033027b3d",
   "metadata": {
    "jp-MarkdownHeadingCollapsed": true,
    "tags": []
   },
   "source": [
    "# Intro"
   ]
  },
  {
   "cell_type": "code",
   "execution_count": 1,
   "id": "f24e2cf2-4350-42bd-8c99-7d321b3fa418",
   "metadata": {},
   "outputs": [],
   "source": [
    "import pandas as pd\n",
    "import seaborn as sns\n",
    "import matplotlib.pyplot as plt"
   ]
  },
  {
   "cell_type": "code",
   "execution_count": 2,
   "id": "10ec9599-bfbd-42db-9060-aedbe4fc7d25",
   "metadata": {},
   "outputs": [],
   "source": [
    "large_df = pd.read_csv('Downloads/anes_pilot_2020ets_csv/anes_pilot_2020ets_csv.csv', low_memory = False)"
   ]
  },
  {
   "cell_type": "code",
   "execution_count": 3,
   "id": "38cb8161-e886-40bc-8a1c-269054df9bd3",
   "metadata": {},
   "outputs": [
    {
     "data": {
      "text/html": [
       "<div>\n",
       "<style scoped>\n",
       "    .dataframe tbody tr th:only-of-type {\n",
       "        vertical-align: middle;\n",
       "    }\n",
       "\n",
       "    .dataframe tbody tr th {\n",
       "        vertical-align: top;\n",
       "    }\n",
       "\n",
       "    .dataframe thead th {\n",
       "        text-align: right;\n",
       "    }\n",
       "</style>\n",
       "<table border=\"1\" class=\"dataframe\">\n",
       "  <thead>\n",
       "    <tr style=\"text-align: right;\">\n",
       "      <th></th>\n",
       "      <th>0</th>\n",
       "      <th>1</th>\n",
       "      <th>2</th>\n",
       "      <th>3</th>\n",
       "      <th>4</th>\n",
       "      <th>5</th>\n",
       "      <th>6</th>\n",
       "      <th>7</th>\n",
       "      <th>8</th>\n",
       "      <th>9</th>\n",
       "      <th>...</th>\n",
       "      <th>3070</th>\n",
       "      <th>3071</th>\n",
       "      <th>3072</th>\n",
       "      <th>3073</th>\n",
       "      <th>3074</th>\n",
       "      <th>3075</th>\n",
       "      <th>3076</th>\n",
       "      <th>3077</th>\n",
       "      <th>3078</th>\n",
       "      <th>3079</th>\n",
       "    </tr>\n",
       "  </thead>\n",
       "  <tbody>\n",
       "    <tr>\n",
       "      <th>V1</th>\n",
       "      <td>1451</td>\n",
       "      <td>2875</td>\n",
       "      <td>859</td>\n",
       "      <td>2031</td>\n",
       "      <td>587</td>\n",
       "      <td>183</td>\n",
       "      <td>1366</td>\n",
       "      <td>1194</td>\n",
       "      <td>2356</td>\n",
       "      <td>2049</td>\n",
       "      <td>...</td>\n",
       "      <td>1668</td>\n",
       "      <td>726</td>\n",
       "      <td>2449</td>\n",
       "      <td>1270</td>\n",
       "      <td>2014</td>\n",
       "      <td>1949</td>\n",
       "      <td>1460</td>\n",
       "      <td>1904</td>\n",
       "      <td>119</td>\n",
       "      <td>2835</td>\n",
       "    </tr>\n",
       "    <tr>\n",
       "      <th>StartDate</th>\n",
       "      <td>4/12/2020 17:04</td>\n",
       "      <td>4/16/2020 10:14</td>\n",
       "      <td>4/17/2020 21:34</td>\n",
       "      <td>4/16/2020 17:29</td>\n",
       "      <td>4/16/2020 15:20</td>\n",
       "      <td>4/14/2020 18:19</td>\n",
       "      <td>4/11/2020 19:00</td>\n",
       "      <td>4/11/2020 8:34</td>\n",
       "      <td>4/14/2020 11:28</td>\n",
       "      <td>4/16/2020 17:40</td>\n",
       "      <td>...</td>\n",
       "      <td>4/14/2020 17:30</td>\n",
       "      <td>4/15/2020 21:51</td>\n",
       "      <td>4/14/2020 15:10</td>\n",
       "      <td>4/11/2020 15:36</td>\n",
       "      <td>4/16/2020 16:47</td>\n",
       "      <td>4/16/2020 2:43</td>\n",
       "      <td>4/12/2020 17:12</td>\n",
       "      <td>4/15/2020 15:12</td>\n",
       "      <td>4/15/2020 12:14</td>\n",
       "      <td>4/14/2020 14:05</td>\n",
       "    </tr>\n",
       "    <tr>\n",
       "      <th>EndDate</th>\n",
       "      <td>4/12/2020 17:23</td>\n",
       "      <td>4/16/2020 11:06</td>\n",
       "      <td>4/17/2020 22:32</td>\n",
       "      <td>4/16/2020 18:34</td>\n",
       "      <td>4/16/2020 15:59</td>\n",
       "      <td>4/14/2020 18:43</td>\n",
       "      <td>4/11/2020 20:21</td>\n",
       "      <td>4/11/2020 9:23</td>\n",
       "      <td>4/14/2020 11:54</td>\n",
       "      <td>4/16/2020 18:58</td>\n",
       "      <td>...</td>\n",
       "      <td>4/14/2020 17:54</td>\n",
       "      <td>4/15/2020 22:38</td>\n",
       "      <td>4/14/2020 15:39</td>\n",
       "      <td>4/11/2020 16:37</td>\n",
       "      <td>4/16/2020 17:42</td>\n",
       "      <td>4/16/2020 3:35</td>\n",
       "      <td>4/12/2020 17:36</td>\n",
       "      <td>4/15/2020 15:47</td>\n",
       "      <td>4/15/2020 12:35</td>\n",
       "      <td>4/14/2020 14:54</td>\n",
       "    </tr>\n",
       "    <tr>\n",
       "      <th>_v1</th>\n",
       "      <td>1131</td>\n",
       "      <td>3170</td>\n",
       "      <td>3490</td>\n",
       "      <td>3885</td>\n",
       "      <td>2330</td>\n",
       "      <td>1435</td>\n",
       "      <td>4856</td>\n",
       "      <td>2971</td>\n",
       "      <td>1550</td>\n",
       "      <td>4661</td>\n",
       "      <td>...</td>\n",
       "      <td>1447</td>\n",
       "      <td>2810</td>\n",
       "      <td>1732</td>\n",
       "      <td>3651</td>\n",
       "      <td>3315</td>\n",
       "      <td>3151</td>\n",
       "      <td>1476</td>\n",
       "      <td>2103</td>\n",
       "      <td>1248</td>\n",
       "      <td>2939</td>\n",
       "    </tr>\n",
       "    <tr>\n",
       "      <th>RecordedDate</th>\n",
       "      <td>4/12/2020 17:23</td>\n",
       "      <td>4/16/2020 11:06</td>\n",
       "      <td>4/17/2020 22:32</td>\n",
       "      <td>4/16/2020 18:34</td>\n",
       "      <td>4/16/2020 15:59</td>\n",
       "      <td>4/14/2020 18:43</td>\n",
       "      <td>4/11/2020 20:21</td>\n",
       "      <td>4/11/2020 9:23</td>\n",
       "      <td>4/14/2020 11:54</td>\n",
       "      <td>4/16/2020 18:58</td>\n",
       "      <td>...</td>\n",
       "      <td>4/14/2020 17:54</td>\n",
       "      <td>4/15/2020 22:38</td>\n",
       "      <td>4/14/2020 15:39</td>\n",
       "      <td>4/11/2020 16:37</td>\n",
       "      <td>4/16/2020 17:42</td>\n",
       "      <td>4/16/2020 3:35</td>\n",
       "      <td>4/12/2020 17:36</td>\n",
       "      <td>4/15/2020 15:47</td>\n",
       "      <td>4/15/2020 12:35</td>\n",
       "      <td>4/14/2020 14:54</td>\n",
       "    </tr>\n",
       "    <tr>\n",
       "      <th>...</th>\n",
       "      <td>...</td>\n",
       "      <td>...</td>\n",
       "      <td>...</td>\n",
       "      <td>...</td>\n",
       "      <td>...</td>\n",
       "      <td>...</td>\n",
       "      <td>...</td>\n",
       "      <td>...</td>\n",
       "      <td>...</td>\n",
       "      <td>...</td>\n",
       "      <td>...</td>\n",
       "      <td>...</td>\n",
       "      <td>...</td>\n",
       "      <td>...</td>\n",
       "      <td>...</td>\n",
       "      <td>...</td>\n",
       "      <td>...</td>\n",
       "      <td>...</td>\n",
       "      <td>...</td>\n",
       "      <td>...</td>\n",
       "      <td>...</td>\n",
       "    </tr>\n",
       "    <tr>\n",
       "      <th>hpi</th>\n",
       "      <td>0</td>\n",
       "      <td>0</td>\n",
       "      <td>0</td>\n",
       "      <td>0</td>\n",
       "      <td>0</td>\n",
       "      <td>0</td>\n",
       "      <td>0</td>\n",
       "      <td>0</td>\n",
       "      <td>0</td>\n",
       "      <td>0</td>\n",
       "      <td>...</td>\n",
       "      <td>0</td>\n",
       "      <td>0</td>\n",
       "      <td>0</td>\n",
       "      <td>0</td>\n",
       "      <td>0</td>\n",
       "      <td>0</td>\n",
       "      <td>0</td>\n",
       "      <td>0</td>\n",
       "      <td>0</td>\n",
       "      <td>0</td>\n",
       "    </tr>\n",
       "    <tr>\n",
       "      <th>mixed</th>\n",
       "      <td>0</td>\n",
       "      <td>0</td>\n",
       "      <td>0</td>\n",
       "      <td>0</td>\n",
       "      <td>0</td>\n",
       "      <td>0</td>\n",
       "      <td>0</td>\n",
       "      <td>0</td>\n",
       "      <td>0</td>\n",
       "      <td>0</td>\n",
       "      <td>...</td>\n",
       "      <td>0</td>\n",
       "      <td>0</td>\n",
       "      <td>0</td>\n",
       "      <td>0</td>\n",
       "      <td>0</td>\n",
       "      <td>0</td>\n",
       "      <td>0</td>\n",
       "      <td>0</td>\n",
       "      <td>0</td>\n",
       "      <td>0</td>\n",
       "    </tr>\n",
       "    <tr>\n",
       "      <th>race7</th>\n",
       "      <td>1</td>\n",
       "      <td>1</td>\n",
       "      <td>5</td>\n",
       "      <td>1</td>\n",
       "      <td>2</td>\n",
       "      <td>5</td>\n",
       "      <td>1</td>\n",
       "      <td>1</td>\n",
       "      <td>1</td>\n",
       "      <td>1</td>\n",
       "      <td>...</td>\n",
       "      <td>1</td>\n",
       "      <td>1</td>\n",
       "      <td>1</td>\n",
       "      <td>1</td>\n",
       "      <td>1</td>\n",
       "      <td>1</td>\n",
       "      <td>1</td>\n",
       "      <td>1</td>\n",
       "      <td>1</td>\n",
       "      <td>1</td>\n",
       "    </tr>\n",
       "    <tr>\n",
       "      <th>vidx</th>\n",
       "      <td>2.0</td>\n",
       "      <td>3.0</td>\n",
       "      <td>3.0</td>\n",
       "      <td>3.0</td>\n",
       "      <td>2.0</td>\n",
       "      <td>0.0</td>\n",
       "      <td>1.0</td>\n",
       "      <td>0.0</td>\n",
       "      <td>1.0</td>\n",
       "      <td>3.0</td>\n",
       "      <td>...</td>\n",
       "      <td>3.0</td>\n",
       "      <td>1.0</td>\n",
       "      <td>1.0</td>\n",
       "      <td>3.0</td>\n",
       "      <td>3.0</td>\n",
       "      <td>0.0</td>\n",
       "      <td>3.0</td>\n",
       "      <td>1.0</td>\n",
       "      <td>3.0</td>\n",
       "      <td>3.0</td>\n",
       "    </tr>\n",
       "    <tr>\n",
       "      <th>vidknow</th>\n",
       "      <td>1</td>\n",
       "      <td>0</td>\n",
       "      <td>0</td>\n",
       "      <td>1</td>\n",
       "      <td>0</td>\n",
       "      <td>0</td>\n",
       "      <td>0</td>\n",
       "      <td>0</td>\n",
       "      <td>1</td>\n",
       "      <td>0</td>\n",
       "      <td>...</td>\n",
       "      <td>1</td>\n",
       "      <td>1</td>\n",
       "      <td>0</td>\n",
       "      <td>0</td>\n",
       "      <td>1</td>\n",
       "      <td>0</td>\n",
       "      <td>0</td>\n",
       "      <td>1</td>\n",
       "      <td>1</td>\n",
       "      <td>1</td>\n",
       "    </tr>\n",
       "  </tbody>\n",
       "</table>\n",
       "<p>470 rows × 3080 columns</p>\n",
       "</div>"
      ],
      "text/plain": [
       "                         0                1                2     \\\n",
       "V1                       1451             2875              859   \n",
       "StartDate     4/12/2020 17:04  4/16/2020 10:14  4/17/2020 21:34   \n",
       "EndDate       4/12/2020 17:23  4/16/2020 11:06  4/17/2020 22:32   \n",
       "_v1                      1131             3170             3490   \n",
       "RecordedDate  4/12/2020 17:23  4/16/2020 11:06  4/17/2020 22:32   \n",
       "...                       ...              ...              ...   \n",
       "hpi                         0                0                0   \n",
       "mixed                       0                0                0   \n",
       "race7                       1                1                5   \n",
       "vidx                      2.0              3.0              3.0   \n",
       "vidknow                     1                0                0   \n",
       "\n",
       "                         3                4                5     \\\n",
       "V1                       2031              587              183   \n",
       "StartDate     4/16/2020 17:29  4/16/2020 15:20  4/14/2020 18:19   \n",
       "EndDate       4/16/2020 18:34  4/16/2020 15:59  4/14/2020 18:43   \n",
       "_v1                      3885             2330             1435   \n",
       "RecordedDate  4/16/2020 18:34  4/16/2020 15:59  4/14/2020 18:43   \n",
       "...                       ...              ...              ...   \n",
       "hpi                         0                0                0   \n",
       "mixed                       0                0                0   \n",
       "race7                       1                2                5   \n",
       "vidx                      3.0              2.0              0.0   \n",
       "vidknow                     1                0                0   \n",
       "\n",
       "                         6               7                8     \\\n",
       "V1                       1366            1194             2356   \n",
       "StartDate     4/11/2020 19:00  4/11/2020 8:34  4/14/2020 11:28   \n",
       "EndDate       4/11/2020 20:21  4/11/2020 9:23  4/14/2020 11:54   \n",
       "_v1                      4856            2971             1550   \n",
       "RecordedDate  4/11/2020 20:21  4/11/2020 9:23  4/14/2020 11:54   \n",
       "...                       ...             ...              ...   \n",
       "hpi                         0               0                0   \n",
       "mixed                       0               0                0   \n",
       "race7                       1               1                1   \n",
       "vidx                      1.0             0.0              1.0   \n",
       "vidknow                     0               0                1   \n",
       "\n",
       "                         9     ...             3070             3071  \\\n",
       "V1                       2049  ...             1668              726   \n",
       "StartDate     4/16/2020 17:40  ...  4/14/2020 17:30  4/15/2020 21:51   \n",
       "EndDate       4/16/2020 18:58  ...  4/14/2020 17:54  4/15/2020 22:38   \n",
       "_v1                      4661  ...             1447             2810   \n",
       "RecordedDate  4/16/2020 18:58  ...  4/14/2020 17:54  4/15/2020 22:38   \n",
       "...                       ...  ...              ...              ...   \n",
       "hpi                         0  ...                0                0   \n",
       "mixed                       0  ...                0                0   \n",
       "race7                       1  ...                1                1   \n",
       "vidx                      3.0  ...              3.0              1.0   \n",
       "vidknow                     0  ...                1                1   \n",
       "\n",
       "                         3072             3073             3074  \\\n",
       "V1                       2449             1270             2014   \n",
       "StartDate     4/14/2020 15:10  4/11/2020 15:36  4/16/2020 16:47   \n",
       "EndDate       4/14/2020 15:39  4/11/2020 16:37  4/16/2020 17:42   \n",
       "_v1                      1732             3651             3315   \n",
       "RecordedDate  4/14/2020 15:39  4/11/2020 16:37  4/16/2020 17:42   \n",
       "...                       ...              ...              ...   \n",
       "hpi                         0                0                0   \n",
       "mixed                       0                0                0   \n",
       "race7                       1                1                1   \n",
       "vidx                      1.0              3.0              3.0   \n",
       "vidknow                     0                0                1   \n",
       "\n",
       "                        3075             3076             3077  \\\n",
       "V1                      1949             1460             1904   \n",
       "StartDate     4/16/2020 2:43  4/12/2020 17:12  4/15/2020 15:12   \n",
       "EndDate       4/16/2020 3:35  4/12/2020 17:36  4/15/2020 15:47   \n",
       "_v1                     3151             1476             2103   \n",
       "RecordedDate  4/16/2020 3:35  4/12/2020 17:36  4/15/2020 15:47   \n",
       "...                      ...              ...              ...   \n",
       "hpi                        0                0                0   \n",
       "mixed                      0                0                0   \n",
       "race7                      1                1                1   \n",
       "vidx                     0.0              3.0              1.0   \n",
       "vidknow                    0                0                1   \n",
       "\n",
       "                         3078             3079  \n",
       "V1                        119             2835  \n",
       "StartDate     4/15/2020 12:14  4/14/2020 14:05  \n",
       "EndDate       4/15/2020 12:35  4/14/2020 14:54  \n",
       "_v1                      1248             2939  \n",
       "RecordedDate  4/15/2020 12:35  4/14/2020 14:54  \n",
       "...                       ...              ...  \n",
       "hpi                         0                0  \n",
       "mixed                       0                0  \n",
       "race7                       1                1  \n",
       "vidx                      3.0              3.0  \n",
       "vidknow                     1                1  \n",
       "\n",
       "[470 rows x 3080 columns]"
      ]
     },
     "execution_count": 3,
     "metadata": {},
     "output_type": "execute_result"
    }
   ],
   "source": [
    "large_df.T"
   ]
  },
  {
   "cell_type": "code",
   "execution_count": 4,
   "id": "132455f3-6071-472b-a6d9-ee569ca0052d",
   "metadata": {
    "tags": []
   },
   "outputs": [],
   "source": [
    "large_df.get('mis_covid19')"
   ]
  },
  {
   "cell_type": "markdown",
   "id": "322b37d8-564d-4e19-ba46-ec11ab29e3e4",
   "metadata": {
    "jp-MarkdownHeadingCollapsed": true,
    "tags": []
   },
   "source": [
    "# Heatmaps"
   ]
  },
  {
   "cell_type": "markdown",
   "id": "ccab2b0f-85d0-40b9-bc24-197f0e67ea09",
   "metadata": {},
   "source": [
    "(just one test heatmap for now)"
   ]
  },
  {
   "cell_type": "code",
   "execution_count": 5,
   "id": "8ce840e9-3640-4be2-948c-6e3b4b07ce33",
   "metadata": {},
   "outputs": [],
   "source": [
    "test_df = large_df.groupby(['mis_covid1']).socmed_1.value_counts()"
   ]
  },
  {
   "cell_type": "code",
   "execution_count": 6,
   "id": "ce6e8148-8390-4b23-a33a-ffc094e22d56",
   "metadata": {},
   "outputs": [
    {
     "data": {
      "text/html": [
       "<div>\n",
       "<style scoped>\n",
       "    .dataframe tbody tr th:only-of-type {\n",
       "        vertical-align: middle;\n",
       "    }\n",
       "\n",
       "    .dataframe tbody tr th {\n",
       "        vertical-align: top;\n",
       "    }\n",
       "\n",
       "    .dataframe thead th {\n",
       "        text-align: right;\n",
       "    }\n",
       "</style>\n",
       "<table border=\"1\" class=\"dataframe\">\n",
       "  <thead>\n",
       "    <tr style=\"text-align: right;\">\n",
       "      <th></th>\n",
       "      <th></th>\n",
       "      <th>socmed_1</th>\n",
       "    </tr>\n",
       "    <tr>\n",
       "      <th>mis_covid1</th>\n",
       "      <th>socmed_1</th>\n",
       "      <th></th>\n",
       "    </tr>\n",
       "  </thead>\n",
       "  <tbody>\n",
       "    <tr>\n",
       "      <th rowspan=\"2\" valign=\"top\">1</th>\n",
       "      <th>1</th>\n",
       "      <td>1128</td>\n",
       "    </tr>\n",
       "    <tr>\n",
       "      <th>0</th>\n",
       "      <td>235</td>\n",
       "    </tr>\n",
       "    <tr>\n",
       "      <th rowspan=\"2\" valign=\"top\">2</th>\n",
       "      <th>1</th>\n",
       "      <td>1326</td>\n",
       "    </tr>\n",
       "    <tr>\n",
       "      <th>0</th>\n",
       "      <td>387</td>\n",
       "    </tr>\n",
       "    <tr>\n",
       "      <th rowspan=\"2\" valign=\"top\">9</th>\n",
       "      <th>0</th>\n",
       "      <td>2</td>\n",
       "    </tr>\n",
       "    <tr>\n",
       "      <th>1</th>\n",
       "      <td>2</td>\n",
       "    </tr>\n",
       "  </tbody>\n",
       "</table>\n",
       "</div>"
      ],
      "text/plain": [
       "                     socmed_1\n",
       "mis_covid1 socmed_1          \n",
       "1          1             1128\n",
       "           0              235\n",
       "2          1             1326\n",
       "           0              387\n",
       "9          0                2\n",
       "           1                2"
      ]
     },
     "execution_count": 6,
     "metadata": {},
     "output_type": "execute_result"
    }
   ],
   "source": [
    "test_df.to_frame()"
   ]
  },
  {
   "cell_type": "code",
   "execution_count": 7,
   "id": "a95ddbda-a8f3-40bd-918f-2634a956bec5",
   "metadata": {},
   "outputs": [],
   "source": [
    "test_df = test_df.unstack()"
   ]
  },
  {
   "cell_type": "code",
   "execution_count": 8,
   "id": "8baee136-66f7-4f13-91dd-6f6e76b59e4f",
   "metadata": {},
   "outputs": [
    {
     "data": {
      "image/png": "[encoded data removed]",
      "text/plain": [
       "<Figure size 432x288 with 2 Axes>"
      ]
     },
     "metadata": {
      "needs_background": "light"
     },
     "output_type": "display_data"
    }
   ],
   "source": [
    "sns.heatmap(test_df, cmap = 'Blues', annot = True, fmt = '.0f');"
   ]
  },
  {
   "cell_type": "markdown",
   "id": "e472189f-0f11-42d7-8d1a-0b6166ec4cef",
   "metadata": {
    "jp-MarkdownHeadingCollapsed": true,
    "tags": []
   },
   "source": [
    "# Descriptive Statistics"
   ]
  },
  {
   "cell_type": "markdown",
   "id": "cbe97823-7b4a-4a93-89f2-5fd946852cc6",
   "metadata": {
    "jp-MarkdownHeadingCollapsed": true,
    "tags": []
   },
   "source": [
    "## Social Media Use:"
   ]
  },
  {
   "cell_type": "markdown",
   "id": "b236df22-c941-46c5-8d3f-29378b4a46a3",
   "metadata": {
    "jp-MarkdownHeadingCollapsed": true,
    "tags": []
   },
   "source": [
    "### Bar Graphs"
   ]
  },
  {
   "cell_type": "code",
   "execution_count": 9,
   "id": "cbb7cb6c-1e32-407c-b59d-26f97e937bde",
   "metadata": {},
   "outputs": [
    {
     "data": {
      "image/png": "[encoded data removed]",
      "text/plain": [
       "<Figure size 432x288 with 1 Axes>"
      ]
     },
     "metadata": {
      "needs_background": "light"
     },
     "output_type": "display_data"
    }
   ],
   "source": [
    "sns.countplot(data = large_df, x = 'socmed_1', color = 'royalblue').set(title = 'Facebook', xlabel = 'Visited Recently?');\n",
    "plt.xticks([0, 1],['No', 'Yes']);"
   ]
  },
  {
   "cell_type": "code",
   "execution_count": 10,
   "id": "c359f86c-af9d-4eb1-a1d4-ab13dba621c6",
   "metadata": {},
   "outputs": [
    {
     "data": {
      "image/png": "[encoded data removed]",
      "text/plain": [
       "<Figure size 432x288 with 1 Axes>"
      ]
     },
     "metadata": {
      "needs_background": "light"
     },
     "output_type": "display_data"
    }
   ],
   "source": [
    "sns.countplot(data = large_df, x = 'socmed_2', \n",
    "              color = 'dodgerblue').set(title = 'Twitter', \n",
    "                                        xlabel = 'Visited Recently?');\n",
    "plt.xticks([0, 1],['No', 'Yes']);"
   ]
  },
  {
   "cell_type": "code",
   "execution_count": 11,
   "id": "1ecef686-f7f9-4f61-a1da-495323db735b",
   "metadata": {},
   "outputs": [
    {
     "data": {
      "image/png": "[encoded data removed]",
      "text/plain": [
       "<Figure size 432x288 with 1 Axes>"
      ]
     },
     "metadata": {
      "needs_background": "light"
     },
     "output_type": "display_data"
    }
   ],
   "source": [
    "sns.countplot(data = large_df, x = 'socmed_3', color = 'crimson').set(title = 'Instagram', xlabel = 'Visited Recently?');\n",
    "plt.xticks([0, 1],['No', 'Yes']);"
   ]
  },
  {
   "cell_type": "code",
   "execution_count": 12,
   "id": "7656f13a-f015-456d-bd1d-696bdd91b719",
   "metadata": {},
   "outputs": [
    {
     "data": {
      "image/png": "[encoded data removed]",
      "text/plain": [
       "<Figure size 432x288 with 1 Axes>"
      ]
     },
     "metadata": {
      "needs_background": "light"
     },
     "output_type": "display_data"
    }
   ],
   "source": [
    "sns.countplot(data = large_df, x = 'socmed_4', \n",
    "              color = 'orangered').set(title = 'Reddit', \n",
    "                                        xlabel = 'Visited Recently?');\n",
    "plt.xticks([0, 1],['No', 'Yes']);"
   ]
  },
  {
   "cell_type": "code",
   "execution_count": 13,
   "id": "4145ff06-0944-4385-bf34-ebb42c049301",
   "metadata": {},
   "outputs": [
    {
     "data": {
      "image/png": "[encoded data removed]",
      "text/plain": [
       "<Figure size 432x288 with 1 Axes>"
      ]
     },
     "metadata": {
      "needs_background": "light"
     },
     "output_type": "display_data"
    }
   ],
   "source": [
    "sns.countplot(data = large_df, x = 'socmed_5', \n",
    "              color = 'red').set(title = 'YouTube', \n",
    "                                        xlabel = 'Visited Recently?');\n",
    "plt.xticks([0, 1],['No', 'Yes']);"
   ]
  },
  {
   "cell_type": "code",
   "execution_count": 14,
   "id": "4e2a5f38-1077-4520-8abd-c4e3a70a538c",
   "metadata": {},
   "outputs": [
    {
     "data": {
      "image/png": "[encoded data removed]",
      "text/plain": [
       "<Figure size 432x288 with 1 Axes>"
      ]
     },
     "metadata": {
      "needs_background": "light"
     },
     "output_type": "display_data"
    }
   ],
   "source": [
    "sns.countplot(data = large_df, x = 'socmed_6', \n",
    "              color = 'yellow').set(title = 'SnapChat', \n",
    "                                        xlabel = 'Visited Recently?');\n",
    "plt.xticks([0, 1],['No', 'Yes']);"
   ]
  },
  {
   "cell_type": "code",
   "execution_count": 15,
   "id": "cfa6722a-de69-42d4-86a1-cbb4d9049ad8",
   "metadata": {},
   "outputs": [
    {
     "data": {
      "image/png": "[encoded data removed]",
      "text/plain": [
       "<Figure size 432x288 with 1 Axes>"
      ]
     },
     "metadata": {
      "needs_background": "light"
     },
     "output_type": "display_data"
    }
   ],
   "source": [
    "sns.countplot(data = large_df, x = 'socmed_7', \n",
    "              color = 'mediumvioletred').set(title = 'TikTok', \n",
    "                                        xlabel = 'Visited Recently?');\n",
    "plt.xticks([0, 1],['No', 'Yes']);"
   ]
  },
  {
   "cell_type": "code",
   "execution_count": 16,
   "id": "2e97e3db-d2ba-4020-aeda-0b3b18f6becd",
   "metadata": {},
   "outputs": [
    {
     "data": {
      "image/png": "[encoded data removed]",
      "text/plain": [
       "<Figure size 432x288 with 1 Axes>"
      ]
     },
     "metadata": {
      "needs_background": "light"
     },
     "output_type": "display_data"
    }
   ],
   "source": [
    "sns.countplot(data = large_df, x = 'socmed_8', \n",
    "              color = 'lightseagreen').set(title = 'Other', \n",
    "                                        xlabel = 'Visited Recently?');\n",
    "plt.xticks([0, 1],['No', 'Yes']);"
   ]
  },
  {
   "cell_type": "code",
   "execution_count": 17,
   "id": "260a3dbe-99b7-4835-8ee3-21dbbf58a495",
   "metadata": {},
   "outputs": [
    {
     "data": {
      "image/png": "[encoded data removed]",
      "text/plain": [
       "<Figure size 432x288 with 1 Axes>"
      ]
     },
     "metadata": {
      "needs_background": "light"
     },
     "output_type": "display_data"
    }
   ],
   "source": [
    "sns.countplot(data = large_df, x = 'socmed_9', \n",
    "              color = 'navy').set(title = 'None', \n",
    "                                        xlabel = 'Visited Recently?');\n",
    "plt.xticks([0, 1],['No', 'Yes']);"
   ]
  },
  {
   "cell_type": "markdown",
   "id": "8239e49e-6471-4e32-bbb5-cdcd7610b739",
   "metadata": {
    "jp-MarkdownHeadingCollapsed": true,
    "tags": []
   },
   "source": [
    "### Tables"
   ]
  },
  {
   "cell_type": "code",
   "execution_count": 18,
   "id": "3d88b912-eadf-4725-af28-1dae77a4885c",
   "metadata": {},
   "outputs": [],
   "source": [
    "facebook_table = large_df.groupby('socmed_1').size().to_frame()\n",
    "facebook_table = facebook_table.T\n",
    "facebook_table.loc[0, 'Name'] = 'Facebook'\n",
    "facebook_table = facebook_table[['Name', 0, 1]]"
   ]
  },
  {
   "cell_type": "code",
   "execution_count": 19,
   "id": "29c68fd4-12b3-4cfa-bf02-5aed0d4180ef",
   "metadata": {},
   "outputs": [],
   "source": [
    "twitter_table = large_df.groupby('socmed_2').size().to_frame()\n",
    "twitter_table = twitter_table.T\n",
    "twitter_table.loc[0, 'Name'] = 'Twitter'\n",
    "twitter_table = twitter_table[['Name', 0, 1]]"
   ]
  },
  {
   "cell_type": "code",
   "execution_count": 20,
   "id": "298d2f4e-14f3-4f0b-8fde-6efbde39ef92",
   "metadata": {},
   "outputs": [],
   "source": [
    "instagram_table = large_df.groupby('socmed_3').size().to_frame()\n",
    "instagram_table = instagram_table.T\n",
    "instagram_table.loc[0, 'Name'] = 'Instagram'\n",
    "instagram_table = instagram_table[['Name', 0, 1]]"
   ]
  },
  {
   "cell_type": "code",
   "execution_count": 21,
   "id": "60cc9397-7d9c-428c-8d01-561587ba0074",
   "metadata": {},
   "outputs": [],
   "source": [
    "reddit_table = large_df.groupby('socmed_4').size().to_frame()\n",
    "reddit_table = reddit_table.T\n",
    "reddit_table.loc[0, 'Name'] = 'Reddit'\n",
    "reddit_table = reddit_table[['Name', 0, 1]]"
   ]
  },
  {
   "cell_type": "code",
   "execution_count": 22,
   "id": "f372dc4b-689f-426f-ad8a-77810afb30a2",
   "metadata": {},
   "outputs": [],
   "source": [
    "youtube_table = large_df.groupby('socmed_5').size().to_frame()\n",
    "youtube_table = youtube_table.T\n",
    "youtube_table.loc[0, 'Name'] = 'YouTube'\n",
    "youtube_table = youtube_table[['Name', 0, 1]]"
   ]
  },
  {
   "cell_type": "code",
   "execution_count": 23,
   "id": "95f6f230-f05d-4d80-9770-1959d3d33bb1",
   "metadata": {},
   "outputs": [],
   "source": [
    "snapchat_table = large_df.groupby('socmed_6').size().to_frame()\n",
    "snapchat_table = snapchat_table.T\n",
    "snapchat_table.loc[0, 'Name'] = 'SnapChat'\n",
    "snapchat_table = snapchat_table[['Name', 0, 1]]"
   ]
  },
  {
   "cell_type": "code",
   "execution_count": 24,
   "id": "9f58dc15-c8dc-496c-9400-6b4d57e060a2",
   "metadata": {},
   "outputs": [],
   "source": [
    "tiktok_table = large_df.groupby('socmed_7').size().to_frame()\n",
    "tiktok_table = tiktok_table.T\n",
    "tiktok_table.loc[0, 'Name'] = 'TikTok'\n",
    "tiktok_table = tiktok_table[['Name', 0, 1]]"
   ]
  },
  {
   "cell_type": "code",
   "execution_count": 25,
   "id": "8f85f005-5b55-4b77-8300-15b87932fcbd",
   "metadata": {},
   "outputs": [],
   "source": [
    "other_table = large_df.groupby('socmed_8').size().to_frame()\n",
    "other_table = other_table.T\n",
    "other_table.loc[0, 'Name'] = 'Other'\n",
    "other_table = other_table[['Name', 0, 1]]"
   ]
  },
  {
   "cell_type": "code",
   "execution_count": 26,
   "id": "4b1048d8-980c-412b-bffb-4a03e0a2eb20",
   "metadata": {},
   "outputs": [],
   "source": [
    "none_table = large_df.groupby('socmed_9').size().to_frame()\n",
    "none_table = none_table.T\n",
    "none_table.loc[0, 'Name'] = 'None'\n",
    "none_table = none_table[['Name', 0, 1]]"
   ]
  },
  {
   "cell_type": "code",
   "execution_count": 27,
   "id": "ee295189-49df-43ff-a926-ab5abf0ae77d",
   "metadata": {},
   "outputs": [
    {
     "data": {
      "text/html": [
       "<div>\n",
       "<style scoped>\n",
       "    .dataframe tbody tr th:only-of-type {\n",
       "        vertical-align: middle;\n",
       "    }\n",
       "\n",
       "    .dataframe tbody tr th {\n",
       "        vertical-align: top;\n",
       "    }\n",
       "\n",
       "    .dataframe thead th {\n",
       "        text-align: right;\n",
       "    }\n",
       "</style>\n",
       "<table border=\"1\" class=\"dataframe\">\n",
       "  <thead>\n",
       "    <tr style=\"text-align: right;\">\n",
       "      <th></th>\n",
       "      <th>Name</th>\n",
       "      <th>0</th>\n",
       "      <th>1</th>\n",
       "    </tr>\n",
       "  </thead>\n",
       "  <tbody>\n",
       "    <tr>\n",
       "      <th>0</th>\n",
       "      <td>Facebook</td>\n",
       "      <td>624</td>\n",
       "      <td>2456</td>\n",
       "    </tr>\n",
       "    <tr>\n",
       "      <th>0</th>\n",
       "      <td>Twitter</td>\n",
       "      <td>1782</td>\n",
       "      <td>1298</td>\n",
       "    </tr>\n",
       "    <tr>\n",
       "      <th>0</th>\n",
       "      <td>Instagram</td>\n",
       "      <td>1621</td>\n",
       "      <td>1459</td>\n",
       "    </tr>\n",
       "    <tr>\n",
       "      <th>0</th>\n",
       "      <td>Reddit</td>\n",
       "      <td>2533</td>\n",
       "      <td>547</td>\n",
       "    </tr>\n",
       "    <tr>\n",
       "      <th>0</th>\n",
       "      <td>YouTube</td>\n",
       "      <td>996</td>\n",
       "      <td>2084</td>\n",
       "    </tr>\n",
       "    <tr>\n",
       "      <th>0</th>\n",
       "      <td>SnapChat</td>\n",
       "      <td>2347</td>\n",
       "      <td>733</td>\n",
       "    </tr>\n",
       "    <tr>\n",
       "      <th>0</th>\n",
       "      <td>TikTok</td>\n",
       "      <td>2621</td>\n",
       "      <td>459</td>\n",
       "    </tr>\n",
       "    <tr>\n",
       "      <th>0</th>\n",
       "      <td>Other</td>\n",
       "      <td>2875</td>\n",
       "      <td>205</td>\n",
       "    </tr>\n",
       "    <tr>\n",
       "      <th>0</th>\n",
       "      <td>None</td>\n",
       "      <td>2820</td>\n",
       "      <td>260</td>\n",
       "    </tr>\n",
       "  </tbody>\n",
       "</table>\n",
       "</div>"
      ],
      "text/plain": [
       "        Name     0     1\n",
       "0   Facebook   624  2456\n",
       "0    Twitter  1782  1298\n",
       "0  Instagram  1621  1459\n",
       "0     Reddit  2533   547\n",
       "0    YouTube   996  2084\n",
       "0   SnapChat  2347   733\n",
       "0     TikTok  2621   459\n",
       "0      Other  2875   205\n",
       "0       None  2820   260"
      ]
     },
     "execution_count": 27,
     "metadata": {},
     "output_type": "execute_result"
    }
   ],
   "source": [
    "soc_med_data = pd.concat([facebook_table, twitter_table, instagram_table, \n",
    "                         reddit_table, youtube_table, snapchat_table, \n",
    "                         tiktok_table, other_table, none_table])\n",
    "soc_med_data"
   ]
  },
  {
   "cell_type": "markdown",
   "id": "2be0faa7-1220-4b17-9a7e-666390f75ab7",
   "metadata": {},
   "source": [
    "Is there a way to graph this?"
   ]
  },
  {
   "cell_type": "markdown",
   "id": "0fa8060a-5765-40a9-b418-8bd548eea01f",
   "metadata": {
    "jp-MarkdownHeadingCollapsed": true,
    "tags": []
   },
   "source": [
    "## Covid Misinformation"
   ]
  },
  {
   "cell_type": "code",
   "execution_count": 28,
   "id": "d6f176de-2003-4edf-ab1f-24900f42e4ef",
   "metadata": {},
   "outputs": [
    {
     "data": {
      "image/png": "[encoded data removed]",
      "text/plain": [
       "<Figure size 432x288 with 1 Axes>"
      ]
     },
     "metadata": {
      "needs_background": "light"
     },
     "output_type": "display_data"
    }
   ],
   "source": [
    "sns.countplot(data = large_df, x = 'mis_covid1', color = 'lightcoral').set(\n",
    "    title = 'Do you believe COVID-19 was developed in a lab?', \n",
    "xlabel = '1 = Yes; 2 = No');"
   ]
  },
  {
   "cell_type": "markdown",
   "id": "b5b4fdce-1b16-4f93-bb0e-2712c4c1afb0",
   "metadata": {},
   "source": [
    "_2 is correct_"
   ]
  },
  {
   "cell_type": "code",
   "execution_count": 29,
   "id": "606a37bf-be94-41e1-b178-8d4f87a67f1c",
   "metadata": {},
   "outputs": [
    {
     "data": {
      "image/png": "[encoded data removed]",
      "text/plain": [
       "<Figure size 432x288 with 1 Axes>"
      ]
     },
     "metadata": {
      "needs_background": "light"
     },
     "output_type": "display_data"
    }
   ],
   "source": [
    "sns.countplot(data = large_df, x = 'mis_covid2', color = 'lightcoral').set(\n",
    "    title = 'Is there currently a vaccine for COVID-19?', \n",
    "xlabel = '1 = Yes; 2 = No');"
   ]
  },
  {
   "cell_type": "markdown",
   "id": "f7a2ed8e-199e-4d05-9ac9-474641a91080",
   "metadata": {},
   "source": [
    "_1 is correct, but maybe toss this question_"
   ]
  },
  {
   "cell_type": "markdown",
   "id": "dd7306d0-eb0e-42c6-8153-da373cbedae8",
   "metadata": {
    "jp-MarkdownHeadingCollapsed": true,
    "tags": []
   },
   "source": [
    "## Demographics"
   ]
  },
  {
   "cell_type": "code",
   "execution_count": 98,
   "id": "f91f14e9-c160-4ac8-8263-4351b44a9ed5",
   "metadata": {},
   "outputs": [
    {
     "data": {
      "image/png": "[encoded data removed]",
      "text/plain": [
       "<Figure size 1440x576 with 1 Axes>"
      ]
     },
     "metadata": {
      "needs_background": "light"
     },
     "output_type": "display_data"
    }
   ],
   "source": [
    "birth_plot = sns.countplot(data = large_df, x = 'birthyr', palette = 'icefire')\n",
    "birth_plot.set_xticklabels(birth_plot.get_xticklabels(), rotation = 30, size = 9)\n",
    "plt.gcf().set_size_inches(20, 8)\n",
    "birth_plot.set(title = 'Birth Year');"
   ]
  },
  {
   "cell_type": "code",
   "execution_count": 31,
   "id": "c8f97762-8bf9-438f-82ef-0715b8614555",
   "metadata": {},
   "outputs": [
    {
     "data": {
      "image/png": "[encoded data removed]",
      "text/plain": [
       "<Figure size 432x288 with 1 Axes>"
      ]
     },
     "metadata": {
      "needs_background": "light"
     },
     "output_type": "display_data"
    }
   ],
   "source": [
    "sex_plot = sns.countplot(data = large_df, x = 'sex', color = 'rebeccapurple').set(\n",
    "    title = 'Sex')\n",
    "plt.xticks([0, 1],['Male', 'Female']);"
   ]
  },
  {
   "cell_type": "code",
   "execution_count": 32,
   "id": "972a60fa-a37a-49d5-8eac-951e8ed518f1",
   "metadata": {},
   "outputs": [
    {
     "data": {
      "image/png": "[encoded data removed]",
      "text/plain": [
       "<Figure size 432x288 with 1 Axes>"
      ]
     },
     "metadata": {
      "needs_background": "light"
     },
     "output_type": "display_data"
    }
   ],
   "source": [
    "educ_plot = sns.countplot(data = large_df, x = 'educ', palette = 'winter_r')\n",
    "plt.xticks([0, 1, 2, 3, 4, 5, 6, 7], ['12th grade or below, no high school diploma',\n",
    "                                      'High school graduate/diploma or equivalent', \n",
    "                                      'Some college but no degree',\n",
    "                                      'Associate degree', ' Bachelor’s degree',\n",
    "                                      'Master’s degree', \n",
    "                                      'Professional degree (e.g., MD, DDS, JD)', \n",
    "                                      'Doctorate']);\n",
    "educ_plot.set_xticklabels(educ_plot.get_xticklabels(), rotation = 90, size = 9);\n",
    "educ_plot.set(\n",
    "    title = 'What is the highest level of school you have completed or the highest degree you have received?');"
   ]
  },
  {
   "cell_type": "code",
   "execution_count": 33,
   "id": "60afed88-d3d4-4ac1-a9e8-ee340d466377",
   "metadata": {},
   "outputs": [
    {
     "data": {
      "text/html": [
       "<div>\n",
       "<style scoped>\n",
       "    .dataframe tbody tr th:only-of-type {\n",
       "        vertical-align: middle;\n",
       "    }\n",
       "\n",
       "    .dataframe tbody tr th {\n",
       "        vertical-align: top;\n",
       "    }\n",
       "\n",
       "    .dataframe thead th {\n",
       "        text-align: right;\n",
       "    }\n",
       "</style>\n",
       "<table border=\"1\" class=\"dataframe\">\n",
       "  <thead>\n",
       "    <tr style=\"text-align: right;\">\n",
       "      <th></th>\n",
       "      <th>state</th>\n",
       "    </tr>\n",
       "  </thead>\n",
       "  <tbody>\n",
       "    <tr>\n",
       "      <th>5</th>\n",
       "      <td>320</td>\n",
       "    </tr>\n",
       "    <tr>\n",
       "      <th>32</th>\n",
       "      <td>273</td>\n",
       "    </tr>\n",
       "    <tr>\n",
       "      <th>9</th>\n",
       "      <td>250</td>\n",
       "    </tr>\n",
       "    <tr>\n",
       "      <th>43</th>\n",
       "      <td>222</td>\n",
       "    </tr>\n",
       "    <tr>\n",
       "      <th>38</th>\n",
       "      <td>157</td>\n",
       "    </tr>\n",
       "    <tr>\n",
       "      <th>13</th>\n",
       "      <td>129</td>\n",
       "    </tr>\n",
       "    <tr>\n",
       "      <th>35</th>\n",
       "      <td>120</td>\n",
       "    </tr>\n",
       "    <tr>\n",
       "      <th>22</th>\n",
       "      <td>106</td>\n",
       "    </tr>\n",
       "    <tr>\n",
       "      <th>10</th>\n",
       "      <td>99</td>\n",
       "    </tr>\n",
       "    <tr>\n",
       "      <th>33</th>\n",
       "      <td>88</td>\n",
       "    </tr>\n",
       "    <tr>\n",
       "      <th>30</th>\n",
       "      <td>88</td>\n",
       "    </tr>\n",
       "    <tr>\n",
       "      <th>3</th>\n",
       "      <td>81</td>\n",
       "    </tr>\n",
       "    <tr>\n",
       "      <th>46</th>\n",
       "      <td>74</td>\n",
       "    </tr>\n",
       "    <tr>\n",
       "      <th>42</th>\n",
       "      <td>67</td>\n",
       "    </tr>\n",
       "    <tr>\n",
       "      <th>6</th>\n",
       "      <td>62</td>\n",
       "    </tr>\n",
       "    <tr>\n",
       "      <th>14</th>\n",
       "      <td>62</td>\n",
       "    </tr>\n",
       "    <tr>\n",
       "      <th>47</th>\n",
       "      <td>60</td>\n",
       "    </tr>\n",
       "    <tr>\n",
       "      <th>23</th>\n",
       "      <td>57</td>\n",
       "    </tr>\n",
       "    <tr>\n",
       "      <th>20</th>\n",
       "      <td>55</td>\n",
       "    </tr>\n",
       "    <tr>\n",
       "      <th>25</th>\n",
       "      <td>53</td>\n",
       "    </tr>\n",
       "    <tr>\n",
       "      <th>50</th>\n",
       "      <td>53</td>\n",
       "    </tr>\n",
       "    <tr>\n",
       "      <th>21</th>\n",
       "      <td>50</td>\n",
       "    </tr>\n",
       "    <tr>\n",
       "      <th>17</th>\n",
       "      <td>44</td>\n",
       "    </tr>\n",
       "    <tr>\n",
       "      <th>40</th>\n",
       "      <td>41</td>\n",
       "    </tr>\n",
       "    <tr>\n",
       "      <th>28</th>\n",
       "      <td>40</td>\n",
       "    </tr>\n",
       "    <tr>\n",
       "      <th>37</th>\n",
       "      <td>39</td>\n",
       "    </tr>\n",
       "    <tr>\n",
       "      <th>18</th>\n",
       "      <td>38</td>\n",
       "    </tr>\n",
       "    <tr>\n",
       "      <th>7</th>\n",
       "      <td>38</td>\n",
       "    </tr>\n",
       "    <tr>\n",
       "      <th>1</th>\n",
       "      <td>37</td>\n",
       "    </tr>\n",
       "    <tr>\n",
       "      <th>4</th>\n",
       "      <td>27</td>\n",
       "    </tr>\n",
       "    <tr>\n",
       "      <th>36</th>\n",
       "      <td>24</td>\n",
       "    </tr>\n",
       "    <tr>\n",
       "      <th>15</th>\n",
       "      <td>23</td>\n",
       "    </tr>\n",
       "    <tr>\n",
       "      <th>24</th>\n",
       "      <td>22</td>\n",
       "    </tr>\n",
       "    <tr>\n",
       "      <th>27</th>\n",
       "      <td>21</td>\n",
       "    </tr>\n",
       "    <tr>\n",
       "      <th>16</th>\n",
       "      <td>19</td>\n",
       "    </tr>\n",
       "    <tr>\n",
       "      <th>44</th>\n",
       "      <td>17</td>\n",
       "    </tr>\n",
       "    <tr>\n",
       "      <th>11</th>\n",
       "      <td>15</td>\n",
       "    </tr>\n",
       "    <tr>\n",
       "      <th>49</th>\n",
       "      <td>13</td>\n",
       "    </tr>\n",
       "    <tr>\n",
       "      <th>31</th>\n",
       "      <td>12</td>\n",
       "    </tr>\n",
       "    <tr>\n",
       "      <th>8</th>\n",
       "      <td>12</td>\n",
       "    </tr>\n",
       "    <tr>\n",
       "      <th>19</th>\n",
       "      <td>11</td>\n",
       "    </tr>\n",
       "    <tr>\n",
       "      <th>12</th>\n",
       "      <td>9</td>\n",
       "    </tr>\n",
       "    <tr>\n",
       "      <th>34</th>\n",
       "      <td>7</td>\n",
       "    </tr>\n",
       "    <tr>\n",
       "      <th>29</th>\n",
       "      <td>7</td>\n",
       "    </tr>\n",
       "    <tr>\n",
       "      <th>51</th>\n",
       "      <td>7</td>\n",
       "    </tr>\n",
       "    <tr>\n",
       "      <th>26</th>\n",
       "      <td>7</td>\n",
       "    </tr>\n",
       "    <tr>\n",
       "      <th>48</th>\n",
       "      <td>6</td>\n",
       "    </tr>\n",
       "    <tr>\n",
       "      <th>39</th>\n",
       "      <td>6</td>\n",
       "    </tr>\n",
       "    <tr>\n",
       "      <th>2</th>\n",
       "      <td>4</td>\n",
       "    </tr>\n",
       "    <tr>\n",
       "      <th>45</th>\n",
       "      <td>4</td>\n",
       "    </tr>\n",
       "    <tr>\n",
       "      <th>41</th>\n",
       "      <td>4</td>\n",
       "    </tr>\n",
       "  </tbody>\n",
       "</table>\n",
       "</div>"
      ],
      "text/plain": [
       "    state\n",
       "5     320\n",
       "32    273\n",
       "9     250\n",
       "43    222\n",
       "38    157\n",
       "13    129\n",
       "35    120\n",
       "22    106\n",
       "10     99\n",
       "33     88\n",
       "30     88\n",
       "3      81\n",
       "46     74\n",
       "42     67\n",
       "6      62\n",
       "14     62\n",
       "47     60\n",
       "23     57\n",
       "20     55\n",
       "25     53\n",
       "50     53\n",
       "21     50\n",
       "17     44\n",
       "40     41\n",
       "28     40\n",
       "37     39\n",
       "18     38\n",
       "7      38\n",
       "1      37\n",
       "4      27\n",
       "36     24\n",
       "15     23\n",
       "24     22\n",
       "27     21\n",
       "16     19\n",
       "44     17\n",
       "11     15\n",
       "49     13\n",
       "31     12\n",
       "8      12\n",
       "19     11\n",
       "12      9\n",
       "34      7\n",
       "29      7\n",
       "51      7\n",
       "26      7\n",
       "48      6\n",
       "39      6\n",
       "2       4\n",
       "45      4\n",
       "41      4"
      ]
     },
     "execution_count": 33,
     "metadata": {},
     "output_type": "execute_result"
    }
   ],
   "source": [
    "state_data = large_df.state.value_counts()\n",
    "state_data.to_frame()"
   ]
  },
  {
   "cell_type": "markdown",
   "id": "ebdd0016-f5bd-496d-9403-bc02748fd15a",
   "metadata": {},
   "source": [
    "Is there a way I could graph this onto a metropolitan city map? I also cannot find the `zipcode` area on the data chart; is there a way I could find that?"
   ]
  },
  {
   "cell_type": "code",
   "execution_count": 34,
   "id": "092c9ddb-b9cc-4e5e-9e17-e9d9135cbd8a",
   "metadata": {},
   "outputs": [
    {
     "data": {
      "image/png": "[encoded data removed]",
      "text/plain": [
       "<Figure size 432x288 with 1 Axes>"
      ]
     },
     "metadata": {
      "needs_background": "light"
     },
     "output_type": "display_data"
    }
   ],
   "source": [
    "sns.countplot(data = large_df, x = 'children', palette = 'spring').set(\n",
    "    title = 'How many children or teenagers age 0 to 17 live in your household?');"
   ]
  },
  {
   "cell_type": "code",
   "execution_count": 83,
   "id": "3d0abf5e-11db-45d6-8aab-1e6b3cb230a7",
   "metadata": {},
   "outputs": [
    {
     "data": {
      "text/html": [
       "<div>\n",
       "<style scoped>\n",
       "    .dataframe tbody tr th:only-of-type {\n",
       "        vertical-align: middle;\n",
       "    }\n",
       "\n",
       "    .dataframe tbody tr th {\n",
       "        vertical-align: top;\n",
       "    }\n",
       "\n",
       "    .dataframe thead th {\n",
       "        text-align: right;\n",
       "    }\n",
       "</style>\n",
       "<table border=\"1\" class=\"dataframe\">\n",
       "  <thead>\n",
       "    <tr style=\"text-align: right;\">\n",
       "      <th></th>\n",
       "      <th>Status</th>\n",
       "      <th>marital1</th>\n",
       "    </tr>\n",
       "  </thead>\n",
       "  <tbody>\n",
       "    <tr>\n",
       "      <th>1</th>\n",
       "      <td>Married</td>\n",
       "      <td>1569</td>\n",
       "    </tr>\n",
       "    <tr>\n",
       "      <th>5</th>\n",
       "      <td>Never Married</td>\n",
       "      <td>888</td>\n",
       "    </tr>\n",
       "    <tr>\n",
       "      <th>3</th>\n",
       "      <td>Divorced</td>\n",
       "      <td>378</td>\n",
       "    </tr>\n",
       "    <tr>\n",
       "      <th>2</th>\n",
       "      <td>Widowed</td>\n",
       "      <td>189</td>\n",
       "    </tr>\n",
       "    <tr>\n",
       "      <th>4</th>\n",
       "      <td>Separated</td>\n",
       "      <td>55</td>\n",
       "    </tr>\n",
       "    <tr>\n",
       "      <th>9</th>\n",
       "      <td>None</td>\n",
       "      <td>1</td>\n",
       "    </tr>\n",
       "  </tbody>\n",
       "</table>\n",
       "</div>"
      ],
      "text/plain": [
       "          Status  marital1\n",
       "1        Married      1569\n",
       "5  Never Married       888\n",
       "3       Divorced       378\n",
       "2        Widowed       189\n",
       "4      Separated        55\n",
       "9           None         1"
      ]
     },
     "execution_count": 83,
     "metadata": {},
     "output_type": "execute_result"
    }
   ],
   "source": [
    "marital_data = large_df.marital1.value_counts()\n",
    "marital_data = marital_data.to_frame()\n",
    "marital_data.insert(0, \"Status\", ['Married', 'Never Married', 'Divorced',\n",
    "                                  'Widowed', 'Separated', 'None'], True)\n",
    "marital_data"
   ]
  },
  {
   "cell_type": "markdown",
   "id": "7567d8d0-21ac-44ed-964d-f3858f11fb22",
   "metadata": {
    "jp-MarkdownHeadingCollapsed": true,
    "tags": []
   },
   "source": [
    "## Ideological Placement"
   ]
  },
  {
   "cell_type": "code",
   "execution_count": 97,
   "id": "6e2666f2-cd12-42ae-b8b1-1dd3b34e7fef",
   "metadata": {},
   "outputs": [
    {
     "data": {
      "image/png": "[encoded data removed]",
      "text/plain": [
       "<Figure size 1080x576 with 1 Axes>"
      ]
     },
     "metadata": {
      "needs_background": "light"
     },
     "output_type": "display_data"
    }
   ],
   "source": [
    "ideo_data = sns.countplot(data = large_df, x = 'lcself', palette = 'cool');\n",
    "plt.xticks([0, 1, 2, 3, 4, 5, 6], ['Very liberal', 'Somewhat liberal', \n",
    "                                  'Closer to liberals',\n",
    "                                  'Neither liberal nor conservative', \n",
    "                                  'Closer to conservatives', \n",
    "                                  'Somewhat conservative', \n",
    "                                  'Very conservative']);\n",
    "plt.gcf().set_size_inches(15, 8)\n",
    "ideo_data.set_xticklabels(ideo_data.get_xticklabels(), rotation = 90, size = 12);\n",
    "ideo_data.set(title = \n",
    "'When it comes to politics, would you describe yourself as liberal, conservative, or neither liberal nor conservative?');"
   ]
  },
  {
   "cell_type": "code",
   "execution_count": 101,
   "id": "e05cc151-e60a-4775-8eff-be6fc8e1cbee",
   "metadata": {},
   "outputs": [
    {
     "data": {
      "image/png": "[encoded data removed]",
      "text/plain": [
       "<Figure size 1080x576 with 1 Axes>"
      ]
     },
     "metadata": {
      "needs_background": "light"
     },
     "output_type": "display_data"
    }
   ],
   "source": [
    "ideodem_data = sns.countplot(data = large_df, x = 'lcd', palette = 'winter');\n",
    "plt.xticks([0, 1, 2, 3, 4, 5, 6], ['Very liberal', 'Somewhat liberal', \n",
    "                                  'Closer to liberals',\n",
    "                                  'Neither liberal nor conservative', \n",
    "                                  'Closer to conservatives', \n",
    "                                  'Somewhat conservative', \n",
    "                                  'Very conservative']);\n",
    "plt.gcf().set_size_inches(15, 8)\n",
    "ideodem_data.set_xticklabels(ideo_data.get_xticklabels(), rotation = 90, size = 12);\n",
    "ideodem_data.set(title = \n",
    "'When it comes to politics, would you describe Democrats as liberal, conservative, or neither liberal nor conservative?');"
   ]
  },
  {
   "cell_type": "code",
   "execution_count": 102,
   "id": "bb4a275e-2298-49f1-a8cc-c5382318dea8",
   "metadata": {},
   "outputs": [
    {
     "data": {
      "image/png": "[encoded data removed]",
      "text/plain": [
       "<Figure size 1080x576 with 1 Axes>"
      ]
     },
     "metadata": {
      "needs_background": "light"
     },
     "output_type": "display_data"
    }
   ],
   "source": [
    "ideorep_data = sns.countplot(data = large_df, x = 'lcr', palette = 'YlOrRd_r');\n",
    "plt.xticks([0, 1, 2, 3, 4, 5, 6], ['Very liberal', 'Somewhat liberal', \n",
    "                                  'Closer to liberals',\n",
    "                                  'Neither liberal nor conservative', \n",
    "                                  'Closer to conservatives', \n",
    "                                  'Somewhat conservative', \n",
    "                                  'Very conservative']);\n",
    "plt.gcf().set_size_inches(15, 8)\n",
    "ideorep_data.set_xticklabels(ideo_data.get_xticklabels(), rotation = 90, size = 12);\n",
    "ideorep_data.set(title = \n",
    "'When it comes to politics, would you describe Republicans as liberal, conservative, or neither liberal nor conservative?');"
   ]
  },
  {
   "cell_type": "markdown",
   "id": "22f27f74-ecfe-4ea6-a97c-22517932f008",
   "metadata": {
    "jp-MarkdownHeadingCollapsed": true,
    "tags": []
   },
   "source": [
    "## Faith in experts"
   ]
  },
  {
   "cell_type": "code",
   "execution_count": 115,
   "id": "2f87b7d0-b811-4756-b7ee-554772f82b2d",
   "metadata": {},
   "outputs": [
    {
     "data": {
      "image/png": "[encoded data removed]",
      "text/plain": [
       "<Figure size 1080x576 with 1 Axes>"
      ]
     },
     "metadata": {
      "needs_background": "light"
     },
     "output_type": "display_data"
    }
   ],
   "source": [
    "experts_data = sns.countplot(data = large_df, x = 'experts', color = 'lightblue')\n",
    "plt.xticks([0, 1, 2, 3, 4, 5], ['Trust ordinary people much more', \n",
    "                                  'Trust ordinary people somewhat more',\n",
    "                                  'Trust both the same', \n",
    "                                  'Trust experts somewhat more', \n",
    "                                  'Trust experts much more',\n",
    "                               '']);\n",
    "plt.gcf().set_size_inches(15, 8)\n",
    "experts_data.set_xticklabels(experts_data.get_xticklabels(), rotation = 30, size = 12);\n",
    "experts_data.set(title = 'When it comes to public policy decisions, whom do you tend to trust more, ordinary people or experts?');"
   ]
  },
  {
   "cell_type": "code",
   "execution_count": 113,
   "id": "5c830624-b391-4e4f-8da8-8e201c28b094",
   "metadata": {},
   "outputs": [
    {
     "data": {
      "image/png": "[encoded data removed]",
      "text/plain": [
       "<Figure size 1080x576 with 1 Axes>"
      ]
     },
     "metadata": {
      "needs_background": "light"
     },
     "output_type": "display_data"
    }
   ],
   "source": [
    "science_data = sns.countplot(data = large_df, x = 'science', color = 'lightgreen')\n",
    "plt.xticks([0, 1, 2, 3, 4, 5], ['Not at all important', \n",
    "                                'A little important', \n",
    "                                  'Moderately important',\n",
    "                                  'Very important', \n",
    "                                  'Extremely important', \n",
    "                                  '']);\n",
    "plt.gcf().set_size_inches(15, 8)\n",
    "science_data.set_xticklabels(science_data.get_xticklabels(), rotation = 30, size = 12);\n",
    "science_data.set(title = 'In general, how important should science be for making government decisions?');"
   ]
  },
  {
   "cell_type": "code",
   "execution_count": 119,
   "id": "e0771d7b-631e-4f1a-8c95-b6c13f958141",
   "metadata": {},
   "outputs": [
    {
     "data": {
      "image/png": "[encoded data removed]",
      "text/plain": [
       "<Figure size 1080x576 with 1 Axes>"
      ]
     },
     "metadata": {
      "needs_background": "light"
     },
     "output_type": "display_data"
    }
   ],
   "source": [
    "exphelp_data = sns.countplot(data = large_df, x = 'exphelp', color = 'red')\n",
    "plt.xticks([0, 1, 2, 3, 4, 5], ['Not at all', \n",
    "                                'A little', \n",
    "                                  ' A moderate amount',\n",
    "                                  'A lot', \n",
    "                                  ' A great deal', \n",
    "                                  '']);\n",
    "plt.gcf().set_size_inches(15, 8)\n",
    "exphelp_data.set_xticklabels(exphelp_data.get_xticklabels(), rotation = 30, size = 12);\n",
    "exphelp_data.set(title = 'How much do ordinary people need the help of experts to understand complicated things like science and health?');"
   ]
  },
  {
   "cell_type": "markdown",
   "id": "6ff17e7e-e555-4461-b22c-114ccc7894e6",
   "metadata": {
    "tags": []
   },
   "source": [
    "## Combo Tables"
   ]
  },
  {
   "cell_type": "markdown",
   "id": "46707594-052d-44e4-9e85-6692e42266b3",
   "metadata": {
    "jp-MarkdownHeadingCollapsed": true,
    "tags": []
   },
   "source": [
    "### Facebook"
   ]
  },
  {
   "cell_type": "code",
   "execution_count": null,
   "id": "021843be-ef60-46a2-bb3a-d7d6ba555005",
   "metadata": {},
   "outputs": [
    {
     "data": {
      "image/png": "[encoded data removed]",
      "text/plain": [
       "<Figure size 432x288 with 1 Axes>"
      ]
     },
     "metadata": {
      "needs_background": "light"
     },
     "output_type": "display_data"
    }
   ],
   "source": [
    "sns.countplot(data = large_df, x = 'facebook1', hue = 'mis_covid1');"
   ]
  },
  {
   "cell_type": "markdown",
   "id": "4d63c3a4-cb2a-49ac-9b90-628ac1e98384",
   "metadata": {},
   "source": [
    "This graph depicts the people answering the first COVID question, separated into the different catagories of answers to the Facebook question. I'm not sure what the 66 here means, but the 1-7 represent the different amounts of time one would spend on Facebook."
   ]
  },
  {
   "cell_type": "code",
   "execution_count": 150,
   "id": "1725e1f1-0798-4130-9419-579acd35122a",
   "metadata": {},
   "outputs": [
    {
     "data": {
      "text/html": [
       "<div>\n",
       "<style scoped>\n",
       "    .dataframe tbody tr th:only-of-type {\n",
       "        vertical-align: middle;\n",
       "    }\n",
       "\n",
       "    .dataframe tbody tr th {\n",
       "        vertical-align: top;\n",
       "    }\n",
       "\n",
       "    .dataframe thead th {\n",
       "        text-align: right;\n",
       "    }\n",
       "</style>\n",
       "<table border=\"1\" class=\"dataframe\">\n",
       "  <thead>\n",
       "    <tr style=\"text-align: right;\">\n",
       "      <th></th>\n",
       "      <th></th>\n",
       "      <th># responses</th>\n",
       "    </tr>\n",
       "    <tr>\n",
       "      <th>facebook1</th>\n",
       "      <th>mis_covid1</th>\n",
       "      <th></th>\n",
       "    </tr>\n",
       "  </thead>\n",
       "  <tbody>\n",
       "    <tr>\n",
       "      <th rowspan=\"3\" valign=\"top\">1</th>\n",
       "      <th>1</th>\n",
       "      <td>538</td>\n",
       "    </tr>\n",
       "    <tr>\n",
       "      <th>2</th>\n",
       "      <td>466</td>\n",
       "    </tr>\n",
       "    <tr>\n",
       "      <th>9</th>\n",
       "      <td>1</td>\n",
       "    </tr>\n",
       "    <tr>\n",
       "      <th rowspan=\"3\" valign=\"top\">2</th>\n",
       "      <th>1</th>\n",
       "      <td>227</td>\n",
       "    </tr>\n",
       "    <tr>\n",
       "      <th>2</th>\n",
       "      <td>324</td>\n",
       "    </tr>\n",
       "    <tr>\n",
       "      <th>9</th>\n",
       "      <td>1</td>\n",
       "    </tr>\n",
       "    <tr>\n",
       "      <th rowspan=\"2\" valign=\"top\">3</th>\n",
       "      <th>1</th>\n",
       "      <td>164</td>\n",
       "    </tr>\n",
       "    <tr>\n",
       "      <th>2</th>\n",
       "      <td>237</td>\n",
       "    </tr>\n",
       "    <tr>\n",
       "      <th rowspan=\"2\" valign=\"top\">4</th>\n",
       "      <th>1</th>\n",
       "      <td>98</td>\n",
       "    </tr>\n",
       "    <tr>\n",
       "      <th>2</th>\n",
       "      <td>131</td>\n",
       "    </tr>\n",
       "    <tr>\n",
       "      <th rowspan=\"2\" valign=\"top\">5</th>\n",
       "      <th>1</th>\n",
       "      <td>37</td>\n",
       "    </tr>\n",
       "    <tr>\n",
       "      <th>2</th>\n",
       "      <td>70</td>\n",
       "    </tr>\n",
       "    <tr>\n",
       "      <th rowspan=\"2\" valign=\"top\">6</th>\n",
       "      <th>1</th>\n",
       "      <td>25</td>\n",
       "    </tr>\n",
       "    <tr>\n",
       "      <th>2</th>\n",
       "      <td>52</td>\n",
       "    </tr>\n",
       "    <tr>\n",
       "      <th rowspan=\"2\" valign=\"top\">7</th>\n",
       "      <th>1</th>\n",
       "      <td>39</td>\n",
       "    </tr>\n",
       "    <tr>\n",
       "      <th>2</th>\n",
       "      <td>46</td>\n",
       "    </tr>\n",
       "    <tr>\n",
       "      <th rowspan=\"3\" valign=\"top\">66</th>\n",
       "      <th>1</th>\n",
       "      <td>235</td>\n",
       "    </tr>\n",
       "    <tr>\n",
       "      <th>2</th>\n",
       "      <td>387</td>\n",
       "    </tr>\n",
       "    <tr>\n",
       "      <th>9</th>\n",
       "      <td>2</td>\n",
       "    </tr>\n",
       "  </tbody>\n",
       "</table>\n",
       "</div>"
      ],
      "text/plain": [
       "                      # responses\n",
       "facebook1 mis_covid1             \n",
       "1         1                   538\n",
       "          2                   466\n",
       "          9                     1\n",
       "2         1                   227\n",
       "          2                   324\n",
       "          9                     1\n",
       "3         1                   164\n",
       "          2                   237\n",
       "4         1                    98\n",
       "          2                   131\n",
       "5         1                    37\n",
       "          2                    70\n",
       "6         1                    25\n",
       "          2                    52\n",
       "7         1                    39\n",
       "          2                    46\n",
       "66        1                   235\n",
       "          2                   387\n",
       "          9                     2"
      ]
     },
     "execution_count": 150,
     "metadata": {},
     "output_type": "execute_result"
    }
   ],
   "source": [
    "fb_covid1_data = large_df.groupby(['facebook1', 'mis_covid1']).size()\n",
    "fb_covid1_data = fb_covid1_data.to_frame('# responses')\n",
    "fb_covid1_data"
   ]
  },
  {
   "cell_type": "code",
   "execution_count": 155,
   "id": "7274ca1a-7916-4982-993c-89a3226d8cdd",
   "metadata": {
    "tags": []
   },
   "outputs": [
    {
     "data": {
      "text/html": [
       "<div>\n",
       "<style scoped>\n",
       "    .dataframe tbody tr th:only-of-type {\n",
       "        vertical-align: middle;\n",
       "    }\n",
       "\n",
       "    .dataframe tbody tr th {\n",
       "        vertical-align: top;\n",
       "    }\n",
       "\n",
       "    .dataframe thead th {\n",
       "        text-align: right;\n",
       "    }\n",
       "</style>\n",
       "<table border=\"1\" class=\"dataframe\">\n",
       "  <thead>\n",
       "    <tr style=\"text-align: right;\">\n",
       "      <th></th>\n",
       "      <th></th>\n",
       "      <th># responses</th>\n",
       "      <th>percent total</th>\n",
       "    </tr>\n",
       "    <tr>\n",
       "      <th>facebook1</th>\n",
       "      <th>mis_covid1</th>\n",
       "      <th></th>\n",
       "      <th></th>\n",
       "    </tr>\n",
       "  </thead>\n",
       "  <tbody>\n",
       "    <tr>\n",
       "      <th rowspan=\"3\" valign=\"top\">1</th>\n",
       "      <th>1</th>\n",
       "      <td>538</td>\n",
       "      <td>17.467532</td>\n",
       "    </tr>\n",
       "    <tr>\n",
       "      <th>2</th>\n",
       "      <td>466</td>\n",
       "      <td>15.129870</td>\n",
       "    </tr>\n",
       "    <tr>\n",
       "      <th>9</th>\n",
       "      <td>1</td>\n",
       "      <td>0.032468</td>\n",
       "    </tr>\n",
       "    <tr>\n",
       "      <th rowspan=\"3\" valign=\"top\">2</th>\n",
       "      <th>1</th>\n",
       "      <td>227</td>\n",
       "      <td>7.370130</td>\n",
       "    </tr>\n",
       "    <tr>\n",
       "      <th>2</th>\n",
       "      <td>324</td>\n",
       "      <td>10.519481</td>\n",
       "    </tr>\n",
       "    <tr>\n",
       "      <th>9</th>\n",
       "      <td>1</td>\n",
       "      <td>0.032468</td>\n",
       "    </tr>\n",
       "    <tr>\n",
       "      <th rowspan=\"2\" valign=\"top\">3</th>\n",
       "      <th>1</th>\n",
       "      <td>164</td>\n",
       "      <td>5.324675</td>\n",
       "    </tr>\n",
       "    <tr>\n",
       "      <th>2</th>\n",
       "      <td>237</td>\n",
       "      <td>7.694805</td>\n",
       "    </tr>\n",
       "    <tr>\n",
       "      <th rowspan=\"2\" valign=\"top\">4</th>\n",
       "      <th>1</th>\n",
       "      <td>98</td>\n",
       "      <td>3.181818</td>\n",
       "    </tr>\n",
       "    <tr>\n",
       "      <th>2</th>\n",
       "      <td>131</td>\n",
       "      <td>4.253247</td>\n",
       "    </tr>\n",
       "    <tr>\n",
       "      <th rowspan=\"2\" valign=\"top\">5</th>\n",
       "      <th>1</th>\n",
       "      <td>37</td>\n",
       "      <td>1.201299</td>\n",
       "    </tr>\n",
       "    <tr>\n",
       "      <th>2</th>\n",
       "      <td>70</td>\n",
       "      <td>2.272727</td>\n",
       "    </tr>\n",
       "    <tr>\n",
       "      <th rowspan=\"2\" valign=\"top\">6</th>\n",
       "      <th>1</th>\n",
       "      <td>25</td>\n",
       "      <td>0.811688</td>\n",
       "    </tr>\n",
       "    <tr>\n",
       "      <th>2</th>\n",
       "      <td>52</td>\n",
       "      <td>1.688312</td>\n",
       "    </tr>\n",
       "    <tr>\n",
       "      <th rowspan=\"2\" valign=\"top\">7</th>\n",
       "      <th>1</th>\n",
       "      <td>39</td>\n",
       "      <td>1.266234</td>\n",
       "    </tr>\n",
       "    <tr>\n",
       "      <th>2</th>\n",
       "      <td>46</td>\n",
       "      <td>1.493506</td>\n",
       "    </tr>\n",
       "    <tr>\n",
       "      <th rowspan=\"3\" valign=\"top\">66</th>\n",
       "      <th>1</th>\n",
       "      <td>235</td>\n",
       "      <td>7.629870</td>\n",
       "    </tr>\n",
       "    <tr>\n",
       "      <th>2</th>\n",
       "      <td>387</td>\n",
       "      <td>12.564935</td>\n",
       "    </tr>\n",
       "    <tr>\n",
       "      <th>9</th>\n",
       "      <td>2</td>\n",
       "      <td>0.064935</td>\n",
       "    </tr>\n",
       "  </tbody>\n",
       "</table>\n",
       "</div>"
      ],
      "text/plain": [
       "                      # responses  percent total\n",
       "facebook1 mis_covid1                            \n",
       "1         1                   538      17.467532\n",
       "          2                   466      15.129870\n",
       "          9                     1       0.032468\n",
       "2         1                   227       7.370130\n",
       "          2                   324      10.519481\n",
       "          9                     1       0.032468\n",
       "3         1                   164       5.324675\n",
       "          2                   237       7.694805\n",
       "4         1                    98       3.181818\n",
       "          2                   131       4.253247\n",
       "5         1                    37       1.201299\n",
       "          2                    70       2.272727\n",
       "6         1                    25       0.811688\n",
       "          2                    52       1.688312\n",
       "7         1                    39       1.266234\n",
       "          2                    46       1.493506\n",
       "66        1                   235       7.629870\n",
       "          2                   387      12.564935\n",
       "          9                     2       0.064935"
      ]
     },
     "execution_count": 155,
     "metadata": {},
     "output_type": "execute_result"
    }
   ],
   "source": [
    "fb_covid1_data.reset_index()\n",
    "fb_covid1_data['percent total'] = (fb_covid1_data['# responses'] / \n",
    "                                fb_covid1_data['# responses'].sum()) * 100\n",
    "fb_covid1_data"
   ]
  },
  {
   "cell_type": "markdown",
   "id": "7a6f9473-5286-4e92-9f3a-cee3a8bdf564",
   "metadata": {
    "jp-MarkdownHeadingCollapsed": true,
    "tags": []
   },
   "source": [
    "### Twitter"
   ]
  },
  {
   "cell_type": "code",
   "execution_count": 166,
   "id": "59fa7b9f-8875-48ba-99ae-39606777a8ad",
   "metadata": {},
   "outputs": [
    {
     "data": {
      "image/png": "[encoded data removed]",
      "text/plain": [
       "<Figure size 432x288 with 1 Axes>"
      ]
     },
     "metadata": {
      "needs_background": "light"
     },
     "output_type": "display_data"
    }
   ],
   "source": [
    "sns.countplot(data = large_df, x = 'twitter1', hue = 'mis_covid1');"
   ]
  },
  {
   "cell_type": "code",
   "execution_count": 164,
   "id": "727d5015-0f38-4248-8124-34f86e815d6b",
   "metadata": {
    "tags": []
   },
   "outputs": [
    {
     "data": {
      "text/html": [
       "<div>\n",
       "<style scoped>\n",
       "    .dataframe tbody tr th:only-of-type {\n",
       "        vertical-align: middle;\n",
       "    }\n",
       "\n",
       "    .dataframe tbody tr th {\n",
       "        vertical-align: top;\n",
       "    }\n",
       "\n",
       "    .dataframe thead th {\n",
       "        text-align: right;\n",
       "    }\n",
       "</style>\n",
       "<table border=\"1\" class=\"dataframe\">\n",
       "  <thead>\n",
       "    <tr style=\"text-align: right;\">\n",
       "      <th></th>\n",
       "      <th></th>\n",
       "      <th># responses</th>\n",
       "    </tr>\n",
       "    <tr>\n",
       "      <th>twitter1</th>\n",
       "      <th>mis_covid1</th>\n",
       "      <th></th>\n",
       "    </tr>\n",
       "  </thead>\n",
       "  <tbody>\n",
       "    <tr>\n",
       "      <th rowspan=\"3\" valign=\"top\">1</th>\n",
       "      <th>1</th>\n",
       "      <td>193</td>\n",
       "    </tr>\n",
       "    <tr>\n",
       "      <th>2</th>\n",
       "      <td>146</td>\n",
       "    </tr>\n",
       "    <tr>\n",
       "      <th>9</th>\n",
       "      <td>1</td>\n",
       "    </tr>\n",
       "    <tr>\n",
       "      <th rowspan=\"2\" valign=\"top\">2</th>\n",
       "      <th>1</th>\n",
       "      <td>125</td>\n",
       "    </tr>\n",
       "    <tr>\n",
       "      <th>2</th>\n",
       "      <td>116</td>\n",
       "    </tr>\n",
       "    <tr>\n",
       "      <th rowspan=\"3\" valign=\"top\">3</th>\n",
       "      <th>1</th>\n",
       "      <td>86</td>\n",
       "    </tr>\n",
       "    <tr>\n",
       "      <th>2</th>\n",
       "      <td>110</td>\n",
       "    </tr>\n",
       "    <tr>\n",
       "      <th>9</th>\n",
       "      <td>1</td>\n",
       "    </tr>\n",
       "    <tr>\n",
       "      <th rowspan=\"2\" valign=\"top\">4</th>\n",
       "      <th>1</th>\n",
       "      <td>75</td>\n",
       "    </tr>\n",
       "    <tr>\n",
       "      <th>2</th>\n",
       "      <td>102</td>\n",
       "    </tr>\n",
       "    <tr>\n",
       "      <th rowspan=\"2\" valign=\"top\">5</th>\n",
       "      <th>1</th>\n",
       "      <td>45</td>\n",
       "    </tr>\n",
       "    <tr>\n",
       "      <th>2</th>\n",
       "      <td>51</td>\n",
       "    </tr>\n",
       "    <tr>\n",
       "      <th rowspan=\"2\" valign=\"top\">6</th>\n",
       "      <th>1</th>\n",
       "      <td>41</td>\n",
       "    </tr>\n",
       "    <tr>\n",
       "      <th>2</th>\n",
       "      <td>72</td>\n",
       "    </tr>\n",
       "    <tr>\n",
       "      <th rowspan=\"2\" valign=\"top\">7</th>\n",
       "      <th>1</th>\n",
       "      <td>60</td>\n",
       "    </tr>\n",
       "    <tr>\n",
       "      <th>2</th>\n",
       "      <td>74</td>\n",
       "    </tr>\n",
       "    <tr>\n",
       "      <th rowspan=\"3\" valign=\"top\">66</th>\n",
       "      <th>1</th>\n",
       "      <td>738</td>\n",
       "    </tr>\n",
       "    <tr>\n",
       "      <th>2</th>\n",
       "      <td>1042</td>\n",
       "    </tr>\n",
       "    <tr>\n",
       "      <th>9</th>\n",
       "      <td>2</td>\n",
       "    </tr>\n",
       "  </tbody>\n",
       "</table>\n",
       "</div>"
      ],
      "text/plain": [
       "                     # responses\n",
       "twitter1 mis_covid1             \n",
       "1        1                   193\n",
       "         2                   146\n",
       "         9                     1\n",
       "2        1                   125\n",
       "         2                   116\n",
       "3        1                    86\n",
       "         2                   110\n",
       "         9                     1\n",
       "4        1                    75\n",
       "         2                   102\n",
       "5        1                    45\n",
       "         2                    51\n",
       "6        1                    41\n",
       "         2                    72\n",
       "7        1                    60\n",
       "         2                    74\n",
       "66       1                   738\n",
       "         2                  1042\n",
       "         9                     2"
      ]
     },
     "execution_count": 164,
     "metadata": {},
     "output_type": "execute_result"
    }
   ],
   "source": [
    "tw_covid1_data = large_df.groupby(['twitter1', 'mis_covid1']).size()\n",
    "tw_covid1_data = tw_covid1_data.to_frame('# responses')\n",
    "tw_covid1_data"
   ]
  },
  {
   "cell_type": "code",
   "execution_count": 165,
   "id": "4bf63ede-05b2-437e-afe9-92c32d24b23f",
   "metadata": {},
   "outputs": [
    {
     "data": {
      "text/html": [
       "<div>\n",
       "<style scoped>\n",
       "    .dataframe tbody tr th:only-of-type {\n",
       "        vertical-align: middle;\n",
       "    }\n",
       "\n",
       "    .dataframe tbody tr th {\n",
       "        vertical-align: top;\n",
       "    }\n",
       "\n",
       "    .dataframe thead th {\n",
       "        text-align: right;\n",
       "    }\n",
       "</style>\n",
       "<table border=\"1\" class=\"dataframe\">\n",
       "  <thead>\n",
       "    <tr style=\"text-align: right;\">\n",
       "      <th></th>\n",
       "      <th></th>\n",
       "      <th># responses</th>\n",
       "      <th>percent total</th>\n",
       "    </tr>\n",
       "    <tr>\n",
       "      <th>twitter1</th>\n",
       "      <th>mis_covid1</th>\n",
       "      <th></th>\n",
       "      <th></th>\n",
       "    </tr>\n",
       "  </thead>\n",
       "  <tbody>\n",
       "    <tr>\n",
       "      <th rowspan=\"3\" valign=\"top\">1</th>\n",
       "      <th>1</th>\n",
       "      <td>193</td>\n",
       "      <td>6.266234</td>\n",
       "    </tr>\n",
       "    <tr>\n",
       "      <th>2</th>\n",
       "      <td>146</td>\n",
       "      <td>4.740260</td>\n",
       "    </tr>\n",
       "    <tr>\n",
       "      <th>9</th>\n",
       "      <td>1</td>\n",
       "      <td>0.032468</td>\n",
       "    </tr>\n",
       "    <tr>\n",
       "      <th rowspan=\"2\" valign=\"top\">2</th>\n",
       "      <th>1</th>\n",
       "      <td>125</td>\n",
       "      <td>4.058442</td>\n",
       "    </tr>\n",
       "    <tr>\n",
       "      <th>2</th>\n",
       "      <td>116</td>\n",
       "      <td>3.766234</td>\n",
       "    </tr>\n",
       "    <tr>\n",
       "      <th rowspan=\"3\" valign=\"top\">3</th>\n",
       "      <th>1</th>\n",
       "      <td>86</td>\n",
       "      <td>2.792208</td>\n",
       "    </tr>\n",
       "    <tr>\n",
       "      <th>2</th>\n",
       "      <td>110</td>\n",
       "      <td>3.571429</td>\n",
       "    </tr>\n",
       "    <tr>\n",
       "      <th>9</th>\n",
       "      <td>1</td>\n",
       "      <td>0.032468</td>\n",
       "    </tr>\n",
       "    <tr>\n",
       "      <th rowspan=\"2\" valign=\"top\">4</th>\n",
       "      <th>1</th>\n",
       "      <td>75</td>\n",
       "      <td>2.435065</td>\n",
       "    </tr>\n",
       "    <tr>\n",
       "      <th>2</th>\n",
       "      <td>102</td>\n",
       "      <td>3.311688</td>\n",
       "    </tr>\n",
       "    <tr>\n",
       "      <th rowspan=\"2\" valign=\"top\">5</th>\n",
       "      <th>1</th>\n",
       "      <td>45</td>\n",
       "      <td>1.461039</td>\n",
       "    </tr>\n",
       "    <tr>\n",
       "      <th>2</th>\n",
       "      <td>51</td>\n",
       "      <td>1.655844</td>\n",
       "    </tr>\n",
       "    <tr>\n",
       "      <th rowspan=\"2\" valign=\"top\">6</th>\n",
       "      <th>1</th>\n",
       "      <td>41</td>\n",
       "      <td>1.331169</td>\n",
       "    </tr>\n",
       "    <tr>\n",
       "      <th>2</th>\n",
       "      <td>72</td>\n",
       "      <td>2.337662</td>\n",
       "    </tr>\n",
       "    <tr>\n",
       "      <th rowspan=\"2\" valign=\"top\">7</th>\n",
       "      <th>1</th>\n",
       "      <td>60</td>\n",
       "      <td>1.948052</td>\n",
       "    </tr>\n",
       "    <tr>\n",
       "      <th>2</th>\n",
       "      <td>74</td>\n",
       "      <td>2.402597</td>\n",
       "    </tr>\n",
       "    <tr>\n",
       "      <th rowspan=\"3\" valign=\"top\">66</th>\n",
       "      <th>1</th>\n",
       "      <td>738</td>\n",
       "      <td>23.961039</td>\n",
       "    </tr>\n",
       "    <tr>\n",
       "      <th>2</th>\n",
       "      <td>1042</td>\n",
       "      <td>33.831169</td>\n",
       "    </tr>\n",
       "    <tr>\n",
       "      <th>9</th>\n",
       "      <td>2</td>\n",
       "      <td>0.064935</td>\n",
       "    </tr>\n",
       "  </tbody>\n",
       "</table>\n",
       "</div>"
      ],
      "text/plain": [
       "                     # responses  percent total\n",
       "twitter1 mis_covid1                            \n",
       "1        1                   193       6.266234\n",
       "         2                   146       4.740260\n",
       "         9                     1       0.032468\n",
       "2        1                   125       4.058442\n",
       "         2                   116       3.766234\n",
       "3        1                    86       2.792208\n",
       "         2                   110       3.571429\n",
       "         9                     1       0.032468\n",
       "4        1                    75       2.435065\n",
       "         2                   102       3.311688\n",
       "5        1                    45       1.461039\n",
       "         2                    51       1.655844\n",
       "6        1                    41       1.331169\n",
       "         2                    72       2.337662\n",
       "7        1                    60       1.948052\n",
       "         2                    74       2.402597\n",
       "66       1                   738      23.961039\n",
       "         2                  1042      33.831169\n",
       "         9                     2       0.064935"
      ]
     },
     "execution_count": 165,
     "metadata": {},
     "output_type": "execute_result"
    }
   ],
   "source": [
    "tw_covid1_data.reset_index()\n",
    "tw_covid1_data['percent total'] = (tw_covid1_data['# responses'] / \n",
    "                                tw_covid1_data['# responses'].sum()) * 100\n",
    "tw_covid1_data"
   ]
  },
  {
   "cell_type": "markdown",
   "id": "c3c025e7-2fad-49a3-8246-8db613f5f0c4",
   "metadata": {
    "jp-MarkdownHeadingCollapsed": true,
    "tags": []
   },
   "source": [
    "### Experts"
   ]
  },
  {
   "cell_type": "code",
   "execution_count": 167,
   "id": "8feca51b-8231-40f8-9561-ecd3b9a31829",
   "metadata": {},
   "outputs": [
    {
     "data": {
      "image/png": "[encoded data removed]",
      "text/plain": [
       "<Figure size 432x288 with 1 Axes>"
      ]
     },
     "metadata": {
      "needs_background": "light"
     },
     "output_type": "display_data"
    }
   ],
   "source": [
    "sns.countplot(data = large_df, x = 'experts', hue = 'mis_covid1');"
   ]
  },
  {
   "cell_type": "code",
   "execution_count": 168,
   "id": "bec6e012-fa27-4b2d-a469-8ff4a59af232",
   "metadata": {
    "tags": []
   },
   "outputs": [
    {
     "data": {
      "text/html": [
       "<div>\n",
       "<style scoped>\n",
       "    .dataframe tbody tr th:only-of-type {\n",
       "        vertical-align: middle;\n",
       "    }\n",
       "\n",
       "    .dataframe tbody tr th {\n",
       "        vertical-align: top;\n",
       "    }\n",
       "\n",
       "    .dataframe thead th {\n",
       "        text-align: right;\n",
       "    }\n",
       "</style>\n",
       "<table border=\"1\" class=\"dataframe\">\n",
       "  <thead>\n",
       "    <tr style=\"text-align: right;\">\n",
       "      <th></th>\n",
       "      <th></th>\n",
       "      <th># responses</th>\n",
       "    </tr>\n",
       "    <tr>\n",
       "      <th>experts</th>\n",
       "      <th>mis_covid1</th>\n",
       "      <th></th>\n",
       "    </tr>\n",
       "  </thead>\n",
       "  <tbody>\n",
       "    <tr>\n",
       "      <th rowspan=\"3\" valign=\"top\">1</th>\n",
       "      <th>1</th>\n",
       "      <td>252</td>\n",
       "    </tr>\n",
       "    <tr>\n",
       "      <th>2</th>\n",
       "      <td>107</td>\n",
       "    </tr>\n",
       "    <tr>\n",
       "      <th>9</th>\n",
       "      <td>1</td>\n",
       "    </tr>\n",
       "    <tr>\n",
       "      <th rowspan=\"3\" valign=\"top\">2</th>\n",
       "      <th>1</th>\n",
       "      <td>260</td>\n",
       "    </tr>\n",
       "    <tr>\n",
       "      <th>2</th>\n",
       "      <td>196</td>\n",
       "    </tr>\n",
       "    <tr>\n",
       "      <th>9</th>\n",
       "      <td>1</td>\n",
       "    </tr>\n",
       "    <tr>\n",
       "      <th rowspan=\"3\" valign=\"top\">3</th>\n",
       "      <th>1</th>\n",
       "      <td>511</td>\n",
       "    </tr>\n",
       "    <tr>\n",
       "      <th>2</th>\n",
       "      <td>653</td>\n",
       "    </tr>\n",
       "    <tr>\n",
       "      <th>9</th>\n",
       "      <td>2</td>\n",
       "    </tr>\n",
       "    <tr>\n",
       "      <th rowspan=\"2\" valign=\"top\">4</th>\n",
       "      <th>1</th>\n",
       "      <td>240</td>\n",
       "    </tr>\n",
       "    <tr>\n",
       "      <th>2</th>\n",
       "      <td>501</td>\n",
       "    </tr>\n",
       "    <tr>\n",
       "      <th rowspan=\"2\" valign=\"top\">5</th>\n",
       "      <th>1</th>\n",
       "      <td>97</td>\n",
       "    </tr>\n",
       "    <tr>\n",
       "      <th>2</th>\n",
       "      <td>253</td>\n",
       "    </tr>\n",
       "    <tr>\n",
       "      <th rowspan=\"2\" valign=\"top\">9</th>\n",
       "      <th>1</th>\n",
       "      <td>3</td>\n",
       "    </tr>\n",
       "    <tr>\n",
       "      <th>2</th>\n",
       "      <td>3</td>\n",
       "    </tr>\n",
       "  </tbody>\n",
       "</table>\n",
       "</div>"
      ],
      "text/plain": [
       "                    # responses\n",
       "experts mis_covid1             \n",
       "1       1                   252\n",
       "        2                   107\n",
       "        9                     1\n",
       "2       1                   260\n",
       "        2                   196\n",
       "        9                     1\n",
       "3       1                   511\n",
       "        2                   653\n",
       "        9                     2\n",
       "4       1                   240\n",
       "        2                   501\n",
       "5       1                    97\n",
       "        2                   253\n",
       "9       1                     3\n",
       "        2                     3"
      ]
     },
     "execution_count": 168,
     "metadata": {},
     "output_type": "execute_result"
    }
   ],
   "source": [
    "ex_covid1_data = large_df.groupby(['experts', 'mis_covid1']).size()\n",
    "ex_covid1_data = ex_covid1_data.to_frame('# responses')\n",
    "ex_covid1_data"
   ]
  },
  {
   "cell_type": "code",
   "execution_count": 169,
   "id": "c17cfdc7-6742-4778-a03d-464885e897d7",
   "metadata": {},
   "outputs": [
    {
     "data": {
      "text/html": [
       "<div>\n",
       "<style scoped>\n",
       "    .dataframe tbody tr th:only-of-type {\n",
       "        vertical-align: middle;\n",
       "    }\n",
       "\n",
       "    .dataframe tbody tr th {\n",
       "        vertical-align: top;\n",
       "    }\n",
       "\n",
       "    .dataframe thead th {\n",
       "        text-align: right;\n",
       "    }\n",
       "</style>\n",
       "<table border=\"1\" class=\"dataframe\">\n",
       "  <thead>\n",
       "    <tr style=\"text-align: right;\">\n",
       "      <th></th>\n",
       "      <th></th>\n",
       "      <th># responses</th>\n",
       "      <th>percent total</th>\n",
       "    </tr>\n",
       "    <tr>\n",
       "      <th>experts</th>\n",
       "      <th>mis_covid1</th>\n",
       "      <th></th>\n",
       "      <th></th>\n",
       "    </tr>\n",
       "  </thead>\n",
       "  <tbody>\n",
       "    <tr>\n",
       "      <th rowspan=\"3\" valign=\"top\">1</th>\n",
       "      <th>1</th>\n",
       "      <td>252</td>\n",
       "      <td>8.181818</td>\n",
       "    </tr>\n",
       "    <tr>\n",
       "      <th>2</th>\n",
       "      <td>107</td>\n",
       "      <td>3.474026</td>\n",
       "    </tr>\n",
       "    <tr>\n",
       "      <th>9</th>\n",
       "      <td>1</td>\n",
       "      <td>0.032468</td>\n",
       "    </tr>\n",
       "    <tr>\n",
       "      <th rowspan=\"3\" valign=\"top\">2</th>\n",
       "      <th>1</th>\n",
       "      <td>260</td>\n",
       "      <td>8.441558</td>\n",
       "    </tr>\n",
       "    <tr>\n",
       "      <th>2</th>\n",
       "      <td>196</td>\n",
       "      <td>6.363636</td>\n",
       "    </tr>\n",
       "    <tr>\n",
       "      <th>9</th>\n",
       "      <td>1</td>\n",
       "      <td>0.032468</td>\n",
       "    </tr>\n",
       "    <tr>\n",
       "      <th rowspan=\"3\" valign=\"top\">3</th>\n",
       "      <th>1</th>\n",
       "      <td>511</td>\n",
       "      <td>16.590909</td>\n",
       "    </tr>\n",
       "    <tr>\n",
       "      <th>2</th>\n",
       "      <td>653</td>\n",
       "      <td>21.201299</td>\n",
       "    </tr>\n",
       "    <tr>\n",
       "      <th>9</th>\n",
       "      <td>2</td>\n",
       "      <td>0.064935</td>\n",
       "    </tr>\n",
       "    <tr>\n",
       "      <th rowspan=\"2\" valign=\"top\">4</th>\n",
       "      <th>1</th>\n",
       "      <td>240</td>\n",
       "      <td>7.792208</td>\n",
       "    </tr>\n",
       "    <tr>\n",
       "      <th>2</th>\n",
       "      <td>501</td>\n",
       "      <td>16.266234</td>\n",
       "    </tr>\n",
       "    <tr>\n",
       "      <th rowspan=\"2\" valign=\"top\">5</th>\n",
       "      <th>1</th>\n",
       "      <td>97</td>\n",
       "      <td>3.149351</td>\n",
       "    </tr>\n",
       "    <tr>\n",
       "      <th>2</th>\n",
       "      <td>253</td>\n",
       "      <td>8.214286</td>\n",
       "    </tr>\n",
       "    <tr>\n",
       "      <th rowspan=\"2\" valign=\"top\">9</th>\n",
       "      <th>1</th>\n",
       "      <td>3</td>\n",
       "      <td>0.097403</td>\n",
       "    </tr>\n",
       "    <tr>\n",
       "      <th>2</th>\n",
       "      <td>3</td>\n",
       "      <td>0.097403</td>\n",
       "    </tr>\n",
       "  </tbody>\n",
       "</table>\n",
       "</div>"
      ],
      "text/plain": [
       "                    # responses  percent total\n",
       "experts mis_covid1                            \n",
       "1       1                   252       8.181818\n",
       "        2                   107       3.474026\n",
       "        9                     1       0.032468\n",
       "2       1                   260       8.441558\n",
       "        2                   196       6.363636\n",
       "        9                     1       0.032468\n",
       "3       1                   511      16.590909\n",
       "        2                   653      21.201299\n",
       "        9                     2       0.064935\n",
       "4       1                   240       7.792208\n",
       "        2                   501      16.266234\n",
       "5       1                    97       3.149351\n",
       "        2                   253       8.214286\n",
       "9       1                     3       0.097403\n",
       "        2                     3       0.097403"
      ]
     },
     "execution_count": 169,
     "metadata": {},
     "output_type": "execute_result"
    }
   ],
   "source": [
    "ex_covid1_data.reset_index()\n",
    "ex_covid1_data['percent total'] = (ex_covid1_data['# responses'] / \n",
    "                                ex_covid1_data['# responses'].sum()) * 100\n",
    "ex_covid1_data"
   ]
  },
  {
   "cell_type": "markdown",
   "id": "1070d08e-2df9-412c-b2bc-c6098ce39bba",
   "metadata": {
    "jp-MarkdownHeadingCollapsed": true,
    "tags": []
   },
   "source": [
    "### Science"
   ]
  },
  {
   "cell_type": "code",
   "execution_count": 170,
   "id": "6b0bdfe4-4c0a-4bac-a6e3-72229943892d",
   "metadata": {},
   "outputs": [
    {
     "data": {
      "image/png": "[encoded data removed]",
      "text/plain": [
       "<Figure size 432x288 with 1 Axes>"
      ]
     },
     "metadata": {
      "needs_background": "light"
     },
     "output_type": "display_data"
    }
   ],
   "source": [
    "sns.countplot(data = large_df, x = 'science', hue = 'mis_covid1');"
   ]
  },
  {
   "cell_type": "code",
   "execution_count": 171,
   "id": "5f3bb5a5-386a-48d6-aea5-917cb7d9bd0c",
   "metadata": {
    "tags": []
   },
   "outputs": [
    {
     "data": {
      "text/html": [
       "<div>\n",
       "<style scoped>\n",
       "    .dataframe tbody tr th:only-of-type {\n",
       "        vertical-align: middle;\n",
       "    }\n",
       "\n",
       "    .dataframe tbody tr th {\n",
       "        vertical-align: top;\n",
       "    }\n",
       "\n",
       "    .dataframe thead th {\n",
       "        text-align: right;\n",
       "    }\n",
       "</style>\n",
       "<table border=\"1\" class=\"dataframe\">\n",
       "  <thead>\n",
       "    <tr style=\"text-align: right;\">\n",
       "      <th></th>\n",
       "      <th></th>\n",
       "      <th># responses</th>\n",
       "    </tr>\n",
       "    <tr>\n",
       "      <th>science</th>\n",
       "      <th>mis_covid1</th>\n",
       "      <th></th>\n",
       "    </tr>\n",
       "  </thead>\n",
       "  <tbody>\n",
       "    <tr>\n",
       "      <th rowspan=\"3\" valign=\"top\">1</th>\n",
       "      <th>1</th>\n",
       "      <td>92</td>\n",
       "    </tr>\n",
       "    <tr>\n",
       "      <th>2</th>\n",
       "      <td>52</td>\n",
       "    </tr>\n",
       "    <tr>\n",
       "      <th>9</th>\n",
       "      <td>2</td>\n",
       "    </tr>\n",
       "    <tr>\n",
       "      <th rowspan=\"2\" valign=\"top\">2</th>\n",
       "      <th>1</th>\n",
       "      <td>310</td>\n",
       "    </tr>\n",
       "    <tr>\n",
       "      <th>2</th>\n",
       "      <td>301</td>\n",
       "    </tr>\n",
       "    <tr>\n",
       "      <th rowspan=\"2\" valign=\"top\">3</th>\n",
       "      <th>1</th>\n",
       "      <td>465</td>\n",
       "    </tr>\n",
       "    <tr>\n",
       "      <th>2</th>\n",
       "      <td>491</td>\n",
       "    </tr>\n",
       "    <tr>\n",
       "      <th rowspan=\"3\" valign=\"top\">4</th>\n",
       "      <th>1</th>\n",
       "      <td>262</td>\n",
       "    </tr>\n",
       "    <tr>\n",
       "      <th>2</th>\n",
       "      <td>428</td>\n",
       "    </tr>\n",
       "    <tr>\n",
       "      <th>9</th>\n",
       "      <td>1</td>\n",
       "    </tr>\n",
       "    <tr>\n",
       "      <th rowspan=\"2\" valign=\"top\">5</th>\n",
       "      <th>1</th>\n",
       "      <td>231</td>\n",
       "    </tr>\n",
       "    <tr>\n",
       "      <th>2</th>\n",
       "      <td>439</td>\n",
       "    </tr>\n",
       "    <tr>\n",
       "      <th rowspan=\"3\" valign=\"top\">9</th>\n",
       "      <th>1</th>\n",
       "      <td>3</td>\n",
       "    </tr>\n",
       "    <tr>\n",
       "      <th>2</th>\n",
       "      <td>2</td>\n",
       "    </tr>\n",
       "    <tr>\n",
       "      <th>9</th>\n",
       "      <td>1</td>\n",
       "    </tr>\n",
       "  </tbody>\n",
       "</table>\n",
       "</div>"
      ],
      "text/plain": [
       "                    # responses\n",
       "science mis_covid1             \n",
       "1       1                    92\n",
       "        2                    52\n",
       "        9                     2\n",
       "2       1                   310\n",
       "        2                   301\n",
       "3       1                   465\n",
       "        2                   491\n",
       "4       1                   262\n",
       "        2                   428\n",
       "        9                     1\n",
       "5       1                   231\n",
       "        2                   439\n",
       "9       1                     3\n",
       "        2                     2\n",
       "        9                     1"
      ]
     },
     "execution_count": 171,
     "metadata": {},
     "output_type": "execute_result"
    }
   ],
   "source": [
    "sci_covid1_data = large_df.groupby(['science', 'mis_covid1']).size()\n",
    "sci_covid1_data = sci_covid1_data.to_frame('# responses')\n",
    "sci_covid1_data"
   ]
  },
  {
   "cell_type": "code",
   "execution_count": 172,
   "id": "a97585ea-c8ae-4711-9227-6c42fd9a8fe9",
   "metadata": {},
   "outputs": [
    {
     "data": {
      "text/html": [
       "<div>\n",
       "<style scoped>\n",
       "    .dataframe tbody tr th:only-of-type {\n",
       "        vertical-align: middle;\n",
       "    }\n",
       "\n",
       "    .dataframe tbody tr th {\n",
       "        vertical-align: top;\n",
       "    }\n",
       "\n",
       "    .dataframe thead th {\n",
       "        text-align: right;\n",
       "    }\n",
       "</style>\n",
       "<table border=\"1\" class=\"dataframe\">\n",
       "  <thead>\n",
       "    <tr style=\"text-align: right;\">\n",
       "      <th></th>\n",
       "      <th></th>\n",
       "      <th># responses</th>\n",
       "      <th>percent total</th>\n",
       "    </tr>\n",
       "    <tr>\n",
       "      <th>science</th>\n",
       "      <th>mis_covid1</th>\n",
       "      <th></th>\n",
       "      <th></th>\n",
       "    </tr>\n",
       "  </thead>\n",
       "  <tbody>\n",
       "    <tr>\n",
       "      <th rowspan=\"3\" valign=\"top\">1</th>\n",
       "      <th>1</th>\n",
       "      <td>92</td>\n",
       "      <td>2.987013</td>\n",
       "    </tr>\n",
       "    <tr>\n",
       "      <th>2</th>\n",
       "      <td>52</td>\n",
       "      <td>1.688312</td>\n",
       "    </tr>\n",
       "    <tr>\n",
       "      <th>9</th>\n",
       "      <td>2</td>\n",
       "      <td>0.064935</td>\n",
       "    </tr>\n",
       "    <tr>\n",
       "      <th rowspan=\"2\" valign=\"top\">2</th>\n",
       "      <th>1</th>\n",
       "      <td>310</td>\n",
       "      <td>10.064935</td>\n",
       "    </tr>\n",
       "    <tr>\n",
       "      <th>2</th>\n",
       "      <td>301</td>\n",
       "      <td>9.772727</td>\n",
       "    </tr>\n",
       "    <tr>\n",
       "      <th rowspan=\"2\" valign=\"top\">3</th>\n",
       "      <th>1</th>\n",
       "      <td>465</td>\n",
       "      <td>15.097403</td>\n",
       "    </tr>\n",
       "    <tr>\n",
       "      <th>2</th>\n",
       "      <td>491</td>\n",
       "      <td>15.941558</td>\n",
       "    </tr>\n",
       "    <tr>\n",
       "      <th rowspan=\"3\" valign=\"top\">4</th>\n",
       "      <th>1</th>\n",
       "      <td>262</td>\n",
       "      <td>8.506494</td>\n",
       "    </tr>\n",
       "    <tr>\n",
       "      <th>2</th>\n",
       "      <td>428</td>\n",
       "      <td>13.896104</td>\n",
       "    </tr>\n",
       "    <tr>\n",
       "      <th>9</th>\n",
       "      <td>1</td>\n",
       "      <td>0.032468</td>\n",
       "    </tr>\n",
       "    <tr>\n",
       "      <th rowspan=\"2\" valign=\"top\">5</th>\n",
       "      <th>1</th>\n",
       "      <td>231</td>\n",
       "      <td>7.500000</td>\n",
       "    </tr>\n",
       "    <tr>\n",
       "      <th>2</th>\n",
       "      <td>439</td>\n",
       "      <td>14.253247</td>\n",
       "    </tr>\n",
       "    <tr>\n",
       "      <th rowspan=\"3\" valign=\"top\">9</th>\n",
       "      <th>1</th>\n",
       "      <td>3</td>\n",
       "      <td>0.097403</td>\n",
       "    </tr>\n",
       "    <tr>\n",
       "      <th>2</th>\n",
       "      <td>2</td>\n",
       "      <td>0.064935</td>\n",
       "    </tr>\n",
       "    <tr>\n",
       "      <th>9</th>\n",
       "      <td>1</td>\n",
       "      <td>0.032468</td>\n",
       "    </tr>\n",
       "  </tbody>\n",
       "</table>\n",
       "</div>"
      ],
      "text/plain": [
       "                    # responses  percent total\n",
       "science mis_covid1                            \n",
       "1       1                    92       2.987013\n",
       "        2                    52       1.688312\n",
       "        9                     2       0.064935\n",
       "2       1                   310      10.064935\n",
       "        2                   301       9.772727\n",
       "3       1                   465      15.097403\n",
       "        2                   491      15.941558\n",
       "4       1                   262       8.506494\n",
       "        2                   428      13.896104\n",
       "        9                     1       0.032468\n",
       "5       1                   231       7.500000\n",
       "        2                   439      14.253247\n",
       "9       1                     3       0.097403\n",
       "        2                     2       0.064935\n",
       "        9                     1       0.032468"
      ]
     },
     "execution_count": 172,
     "metadata": {},
     "output_type": "execute_result"
    }
   ],
   "source": [
    "sci_covid1_data.reset_index()\n",
    "sci_covid1_data['percent total'] = (sci_covid1_data['# responses'] / \n",
    "                                sci_covid1_data['# responses'].sum()) * 100\n",
    "sci_covid1_data"
   ]
  },
  {
   "cell_type": "markdown",
   "id": "ca3a72cf-a2cf-4083-aea6-f494cde076d5",
   "metadata": {
    "jp-MarkdownHeadingCollapsed": true,
    "tags": []
   },
   "source": [
    "### Exphelp"
   ]
  },
  {
   "cell_type": "code",
   "execution_count": 173,
   "id": "bf99247f-adee-44e8-9425-728bb4be4a27",
   "metadata": {},
   "outputs": [
    {
     "data": {
      "image/png": "[encoded data removed]",
      "text/plain": [
       "<Figure size 432x288 with 1 Axes>"
      ]
     },
     "metadata": {
      "needs_background": "light"
     },
     "output_type": "display_data"
    }
   ],
   "source": [
    "sns.countplot(data = large_df, x = 'exphelp', hue = 'mis_covid1');"
   ]
  },
  {
   "cell_type": "code",
   "execution_count": 174,
   "id": "3d945215-fcf9-4936-a5a9-d79b2ee9490f",
   "metadata": {
    "tags": []
   },
   "outputs": [
    {
     "data": {
      "text/html": [
       "<div>\n",
       "<style scoped>\n",
       "    .dataframe tbody tr th:only-of-type {\n",
       "        vertical-align: middle;\n",
       "    }\n",
       "\n",
       "    .dataframe tbody tr th {\n",
       "        vertical-align: top;\n",
       "    }\n",
       "\n",
       "    .dataframe thead th {\n",
       "        text-align: right;\n",
       "    }\n",
       "</style>\n",
       "<table border=\"1\" class=\"dataframe\">\n",
       "  <thead>\n",
       "    <tr style=\"text-align: right;\">\n",
       "      <th></th>\n",
       "      <th></th>\n",
       "      <th># responses</th>\n",
       "    </tr>\n",
       "    <tr>\n",
       "      <th>exphelp</th>\n",
       "      <th>mis_covid1</th>\n",
       "      <th></th>\n",
       "    </tr>\n",
       "  </thead>\n",
       "  <tbody>\n",
       "    <tr>\n",
       "      <th rowspan=\"3\" valign=\"top\">1</th>\n",
       "      <th>1</th>\n",
       "      <td>61</td>\n",
       "    </tr>\n",
       "    <tr>\n",
       "      <th>2</th>\n",
       "      <td>39</td>\n",
       "    </tr>\n",
       "    <tr>\n",
       "      <th>9</th>\n",
       "      <td>1</td>\n",
       "    </tr>\n",
       "    <tr>\n",
       "      <th rowspan=\"2\" valign=\"top\">2</th>\n",
       "      <th>1</th>\n",
       "      <td>279</td>\n",
       "    </tr>\n",
       "    <tr>\n",
       "      <th>2</th>\n",
       "      <td>228</td>\n",
       "    </tr>\n",
       "    <tr>\n",
       "      <th rowspan=\"3\" valign=\"top\">3</th>\n",
       "      <th>1</th>\n",
       "      <td>479</td>\n",
       "    </tr>\n",
       "    <tr>\n",
       "      <th>2</th>\n",
       "      <td>563</td>\n",
       "    </tr>\n",
       "    <tr>\n",
       "      <th>9</th>\n",
       "      <td>1</td>\n",
       "    </tr>\n",
       "    <tr>\n",
       "      <th rowspan=\"3\" valign=\"top\">4</th>\n",
       "      <th>1</th>\n",
       "      <td>278</td>\n",
       "    </tr>\n",
       "    <tr>\n",
       "      <th>2</th>\n",
       "      <td>491</td>\n",
       "    </tr>\n",
       "    <tr>\n",
       "      <th>9</th>\n",
       "      <td>1</td>\n",
       "    </tr>\n",
       "    <tr>\n",
       "      <th rowspan=\"2\" valign=\"top\">5</th>\n",
       "      <th>1</th>\n",
       "      <td>263</td>\n",
       "    </tr>\n",
       "    <tr>\n",
       "      <th>2</th>\n",
       "      <td>390</td>\n",
       "    </tr>\n",
       "    <tr>\n",
       "      <th rowspan=\"3\" valign=\"top\">9</th>\n",
       "      <th>1</th>\n",
       "      <td>3</td>\n",
       "    </tr>\n",
       "    <tr>\n",
       "      <th>2</th>\n",
       "      <td>2</td>\n",
       "    </tr>\n",
       "    <tr>\n",
       "      <th>9</th>\n",
       "      <td>1</td>\n",
       "    </tr>\n",
       "  </tbody>\n",
       "</table>\n",
       "</div>"
      ],
      "text/plain": [
       "                    # responses\n",
       "exphelp mis_covid1             \n",
       "1       1                    61\n",
       "        2                    39\n",
       "        9                     1\n",
       "2       1                   279\n",
       "        2                   228\n",
       "3       1                   479\n",
       "        2                   563\n",
       "        9                     1\n",
       "4       1                   278\n",
       "        2                   491\n",
       "        9                     1\n",
       "5       1                   263\n",
       "        2                   390\n",
       "9       1                     3\n",
       "        2                     2\n",
       "        9                     1"
      ]
     },
     "execution_count": 174,
     "metadata": {},
     "output_type": "execute_result"
    }
   ],
   "source": [
    "exph_covid1_data = large_df.groupby(['exphelp', 'mis_covid1']).size()\n",
    "exph_covid1_data = exph_covid1_data.to_frame('# responses')\n",
    "exph_covid1_data"
   ]
  },
  {
   "cell_type": "code",
   "execution_count": 175,
   "id": "98e75fc2-b058-47d4-a0ac-b9696cf82782",
   "metadata": {},
   "outputs": [
    {
     "data": {
      "text/html": [
       "<div>\n",
       "<style scoped>\n",
       "    .dataframe tbody tr th:only-of-type {\n",
       "        vertical-align: middle;\n",
       "    }\n",
       "\n",
       "    .dataframe tbody tr th {\n",
       "        vertical-align: top;\n",
       "    }\n",
       "\n",
       "    .dataframe thead th {\n",
       "        text-align: right;\n",
       "    }\n",
       "</style>\n",
       "<table border=\"1\" class=\"dataframe\">\n",
       "  <thead>\n",
       "    <tr style=\"text-align: right;\">\n",
       "      <th></th>\n",
       "      <th></th>\n",
       "      <th># responses</th>\n",
       "      <th>percent total</th>\n",
       "    </tr>\n",
       "    <tr>\n",
       "      <th>exphelp</th>\n",
       "      <th>mis_covid1</th>\n",
       "      <th></th>\n",
       "      <th></th>\n",
       "    </tr>\n",
       "  </thead>\n",
       "  <tbody>\n",
       "    <tr>\n",
       "      <th rowspan=\"3\" valign=\"top\">1</th>\n",
       "      <th>1</th>\n",
       "      <td>61</td>\n",
       "      <td>1.980519</td>\n",
       "    </tr>\n",
       "    <tr>\n",
       "      <th>2</th>\n",
       "      <td>39</td>\n",
       "      <td>1.266234</td>\n",
       "    </tr>\n",
       "    <tr>\n",
       "      <th>9</th>\n",
       "      <td>1</td>\n",
       "      <td>0.032468</td>\n",
       "    </tr>\n",
       "    <tr>\n",
       "      <th rowspan=\"2\" valign=\"top\">2</th>\n",
       "      <th>1</th>\n",
       "      <td>279</td>\n",
       "      <td>9.058442</td>\n",
       "    </tr>\n",
       "    <tr>\n",
       "      <th>2</th>\n",
       "      <td>228</td>\n",
       "      <td>7.402597</td>\n",
       "    </tr>\n",
       "    <tr>\n",
       "      <th rowspan=\"3\" valign=\"top\">3</th>\n",
       "      <th>1</th>\n",
       "      <td>479</td>\n",
       "      <td>15.551948</td>\n",
       "    </tr>\n",
       "    <tr>\n",
       "      <th>2</th>\n",
       "      <td>563</td>\n",
       "      <td>18.279221</td>\n",
       "    </tr>\n",
       "    <tr>\n",
       "      <th>9</th>\n",
       "      <td>1</td>\n",
       "      <td>0.032468</td>\n",
       "    </tr>\n",
       "    <tr>\n",
       "      <th rowspan=\"3\" valign=\"top\">4</th>\n",
       "      <th>1</th>\n",
       "      <td>278</td>\n",
       "      <td>9.025974</td>\n",
       "    </tr>\n",
       "    <tr>\n",
       "      <th>2</th>\n",
       "      <td>491</td>\n",
       "      <td>15.941558</td>\n",
       "    </tr>\n",
       "    <tr>\n",
       "      <th>9</th>\n",
       "      <td>1</td>\n",
       "      <td>0.032468</td>\n",
       "    </tr>\n",
       "    <tr>\n",
       "      <th rowspan=\"2\" valign=\"top\">5</th>\n",
       "      <th>1</th>\n",
       "      <td>263</td>\n",
       "      <td>8.538961</td>\n",
       "    </tr>\n",
       "    <tr>\n",
       "      <th>2</th>\n",
       "      <td>390</td>\n",
       "      <td>12.662338</td>\n",
       "    </tr>\n",
       "    <tr>\n",
       "      <th rowspan=\"3\" valign=\"top\">9</th>\n",
       "      <th>1</th>\n",
       "      <td>3</td>\n",
       "      <td>0.097403</td>\n",
       "    </tr>\n",
       "    <tr>\n",
       "      <th>2</th>\n",
       "      <td>2</td>\n",
       "      <td>0.064935</td>\n",
       "    </tr>\n",
       "    <tr>\n",
       "      <th>9</th>\n",
       "      <td>1</td>\n",
       "      <td>0.032468</td>\n",
       "    </tr>\n",
       "  </tbody>\n",
       "</table>\n",
       "</div>"
      ],
      "text/plain": [
       "                    # responses  percent total\n",
       "exphelp mis_covid1                            \n",
       "1       1                    61       1.980519\n",
       "        2                    39       1.266234\n",
       "        9                     1       0.032468\n",
       "2       1                   279       9.058442\n",
       "        2                   228       7.402597\n",
       "3       1                   479      15.551948\n",
       "        2                   563      18.279221\n",
       "        9                     1       0.032468\n",
       "4       1                   278       9.025974\n",
       "        2                   491      15.941558\n",
       "        9                     1       0.032468\n",
       "5       1                   263       8.538961\n",
       "        2                   390      12.662338\n",
       "9       1                     3       0.097403\n",
       "        2                     2       0.064935\n",
       "        9                     1       0.032468"
      ]
     },
     "execution_count": 175,
     "metadata": {},
     "output_type": "execute_result"
    }
   ],
   "source": [
    "exph_covid1_data.reset_index()\n",
    "exph_covid1_data['percent total'] = (exph_covid1_data['# responses'] / \n",
    "                                exph_covid1_data['# responses'].sum()) * 100\n",
    "exph_covid1_data"
   ]
  },
  {
   "cell_type": "markdown",
   "id": "bb612c28-f4c3-40bd-b6d3-486e0a230191",
   "metadata": {
    "jp-MarkdownHeadingCollapsed": true,
    "tags": []
   },
   "source": [
    "# Questions"
   ]
  },
  {
   "cell_type": "markdown",
   "id": "55386bd6-ce15-4b13-b6ed-4e66243407dc",
   "metadata": {},
   "source": [
    "How do you create variables? (ex. a person who uses Facebook once a day AND answered Yes to the COVID question)"
   ]
  },
  {
   "cell_type": "markdown",
   "id": "43429c91-38e7-4ed4-9ac8-995dc81d3d0d",
   "metadata": {
    "jp-MarkdownHeadingCollapsed": true,
    "tags": []
   },
   "source": [
    "how to put percentages of JUST the `facebook1` index in?"
   ]
  }
 ],
 "metadata": {
  "kernelspec": {
   "display_name": "Python 3 (ipykernel)",
   "language": "python",
   "name": "python3"
  },
  "language_info": {
   "codemirror_mode": {
    "name": "ipython",
    "version": 3
   },
   "file_extension": ".py",
   "mimetype": "text/x-python",
   "name": "python",
   "nbconvert_exporter": "python",
   "pygments_lexer": "ipython3",
   "version": "3.9.12"
  }
 },
 "nbformat": 4,
 "nbformat_minor": 5
}
